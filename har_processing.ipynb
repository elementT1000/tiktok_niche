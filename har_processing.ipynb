{
 "cells": [
  {
   "cell_type": "code",
   "execution_count": 1,
   "metadata": {},
   "outputs": [
    {
     "name": "stdout",
     "output_type": "stream",
     "text": [
      "<class 'dict'>\n"
     ]
    }
   ],
   "source": [
    "import json\n",
    "import re\n",
    "from haralyzer import HarParser\n",
    "import pandas as pd\n",
    "from datetime import datetime, timezone\n",
    "\n",
    "# Load the HAR file\n",
    "with open('Content_Creator_Tips_Archive [24-10-17 11-41-46].har', 'r', encoding='utf-8') as f:\n",
    "    har_parser = HarParser(json.loads(f.read()))\n",
    "\n",
    "#Check if it has data\n",
    "data_from_har = har_parser.har_data\n",
    "print(type(data_from_har))\n",
    "\n",
    "# Regex patterns for matching variables\n",
    "patterns = {\n",
    "    'username': re.compile(r'\"uniqueId\"\\s*:\\s*\"([^\"]+)\"'),\n",
    "    'nickname': re.compile(r'\"nickname\"\\s*:\\s*\"([^\"]+)\"'),\n",
    "    'bio': re.compile(r'\"signature\"\\s*:\\s*\"([^\"]+)\"'),\n",
    "    'follower_count': re.compile(r'\"followerCount\"\\s*:\\s*(\\d+)'),\n",
    "    'video_description': re.compile(r'\"desc\"\\s*:\\s*\"([^\"]+)\"'),\n",
    "    'upload_time': re.compile(r'\"createTime\"\\s*:\\s*(\\d+)'),\n",
    "    'duration': re.compile(r'\"duration\"\\s*:\\s*(\\d+)'),\n",
    "    'sound': re.compile(r'\"title\"\\s*:\\s*\"([^\"]+)\"'),\n",
    "    'view_count': re.compile(r'\"playCount\"\\s*:\\s*(\\d+)'),\n",
    "    'comment_count': re.compile(r'\"commentCount\"\\s*:\\s*(\\d+)'),\n",
    "    'like_count': re.compile(r'\"diggCount\"\\s*:\\s*(\\d+)'),\n",
    "    'save_count': re.compile(r'\"collectCount\"\\s*:\\s*(\\d+)'),\n",
    "    'share_count': re.compile(r'\"shareCount\"\\s*:\\s*(\\d+)')\n",
    "}\n"
   ]
  },
  {
   "cell_type": "code",
   "execution_count": 2,
   "metadata": {},
   "outputs": [
    {
     "name": "stdout",
     "output_type": "stream",
     "text": [
      "108\n"
     ]
    }
   ],
   "source": [
    "data = []\n",
    "\n",
    "# Updated helper function to convert UNIX time to human-readable UTC format\n",
    "def convert_unix_time(unix_time):\n",
    "    return datetime.fromtimestamp(unix_time, tz=timezone.utc).strftime('%Y-%m-%d %H:%M:%S')\n",
    "\n",
    "# Iterate over pages and entries in the HAR file\n",
    "for page in har_parser.pages:\n",
    "    for entry in page.entries:\n",
    "        # Ensure that the entry has a 'text' field in its response content\n",
    "        response_text = entry['response']['content'].get('text', '')\n",
    "        if response_text:\n",
    "            # Try to load the text content as JSON\n",
    "            try:\n",
    "                response_data = json.loads(response_text)\n",
    "                \n",
    "                # Extract the list of videos (inside the \"data\" array)\n",
    "                videos = response_data.get('data', [])  # 'data' contains the list of video objects\n",
    "                \n",
    "                # Iterate over each video in the \"data\" array\n",
    "                for video in videos:\n",
    "                    item = video.get('item', {})  # 'item' contains the details of each video\n",
    "                    \n",
    "                    # Extract the data for each video (item)\n",
    "                    extracted_data = {}\n",
    "                    for key, pattern in patterns.items():\n",
    "                        match = pattern.search(json.dumps(item))  # Search inside each item object\n",
    "                        extracted_data[key] = match.group(1) if match else None\n",
    "\n",
    "                    # Convert UNIX time for upload_date if available\n",
    "                    if extracted_data.get('upload_time'):\n",
    "                        extracted_data['upload_time'] = convert_unix_time(int(extracted_data['upload_time']))\n",
    "\n",
    "                    # Add the row to the dataset if relevant data was found\n",
    "                    if any(extracted_data.values()):\n",
    "                        data.append(extracted_data)\n",
    "\n",
    "            except json.JSONDecodeError:\n",
    "                print(\"Error decoding JSON response\")\n",
    "                continue\n",
    "\n",
    "df = pd.DataFrame(data)\n",
    "\n",
    "# Show the first few rows of the DataFrame to verify the extraction\n",
    "print(len(df))\n",
    "#print(df)\n"
   ]
  },
  {
   "cell_type": "markdown",
   "metadata": {},
   "source": [
    "### Now, let's clean the data "
   ]
  },
  {
   "cell_type": "code",
   "execution_count": 3,
   "metadata": {},
   "outputs": [],
   "source": [
    "# Data from JSON file is imported as 'str' type. Convert to numeric.\n",
    "# List of columns to convert to numeric\n",
    "columns_to_convert = ['follower_count', 'view_count', 'comment_count', 'like_count', 'save_count', 'share_count']\n",
    "\n",
    "# Convert all relevant columns to numeric in one step\n",
    "df[columns_to_convert] = df[columns_to_convert].apply(pd.to_numeric, errors='coerce')"
   ]
  },
  {
   "cell_type": "code",
   "execution_count": 4,
   "metadata": {},
   "outputs": [],
   "source": [
    "# Hashtags are at the end of the video description. Let's put those in to a new column.\n",
    "def extract_hashtags(description):\n",
    "    hashtags = re.findall(r'#\\w+', description)\n",
    "\n",
    "    #Remove them from description to avoid repeating data\n",
    "    clean_description = re.sub(r'#\\w+', '', description).strip()\n",
    "    return clean_description, hashtags  \n",
    "\n",
    "df[['video_description', 'hashtags']] = df['video_description'].apply(\n",
    "    lambda desc: pd.Series(extract_hashtags(desc) if pd.notnull(desc) else ('', []))\n",
    ")\n",
    "\n",
    "#print(df)"
   ]
  },
  {
   "cell_type": "code",
   "execution_count": 5,
   "metadata": {},
   "outputs": [],
   "source": [
    "# Let's convert the emoji's for the humans in the audience.\n",
    "import json\n",
    "# Function to decode Unicode escape sequences safely\n",
    "def decode_unicode(description):\n",
    "    try:\n",
    "        # Add quotes around the string so json.loads correctly decodes the escape sequences\n",
    "        return json.loads(f'\"{description}\"')\n",
    "    except json.JSONDecodeError:\n",
    "        return description\n",
    "\n",
    "# List of columns to apply the decoding function\n",
    "columns_to_decode = ['video_description', 'nickname', 'bio']\n",
    "\n",
    "# Apply the decoding function in place to all specified columns\n",
    "df[columns_to_decode] = df[columns_to_decode].map(lambda desc: decode_unicode(desc) if pd.notnull(desc) else '')\n",
    "\n",
    "# Show the resulting DataFrame with the decoded descriptions\n",
    "#print(df[['video_description']])\n",
    "\n",
    "# Save the cleaned data to a .csv for work elsewhere\n",
    "df.to_csv('cleaned_tiktok_data.csv', index=False)\n"
   ]
  },
  {
   "cell_type": "markdown",
   "metadata": {},
   "source": [
    "### Data Aggregation"
   ]
  },
  {
   "cell_type": "code",
   "execution_count": 6,
   "metadata": {},
   "outputs": [
    {
     "name": "stdout",
     "output_type": "stream",
     "text": [
      "     view_count  comment_count  like_count  save_count  share_count  \\\n",
      "0        694500            433       47200       20300         3107   \n",
      "1        441700            813       55500       37500         4104   \n",
      "2        442600            475       36500       31900         4514   \n",
      "3         56400             90        4679        1310          182   \n",
      "4        902000            385      123500       39900         6719   \n",
      "..          ...            ...         ...         ...          ...   \n",
      "103      244800            475        9178        6204          791   \n",
      "104       54600            196        4707        1770           62   \n",
      "105       25200             12        2051        1015           81   \n",
      "106     2600000            992      115800       62100         8007   \n",
      "107       16900             20        1077         640           49   \n",
      "\n",
      "     engagement_rate  \n",
      "0           0.102289  \n",
      "1           0.221682  \n",
      "2           0.165813  \n",
      "3           0.111011  \n",
      "4           0.189029  \n",
      "..               ...  \n",
      "103         0.068007  \n",
      "104         0.123352  \n",
      "105         0.125357  \n",
      "106         0.071884  \n",
      "107         0.105680  \n",
      "\n",
      "[108 rows x 6 columns]\n"
     ]
    }
   ],
   "source": [
    "#Calculate the rate of engagement by looking at the ratio of interactions to views.\n",
    "df['engagement_rate'] = (df['comment_count'] + df['like_count'] + df['save_count'] + df['share_count']) / df['view_count']\n",
    "\n",
    "# Show the resulting DataFrame with the new engagement_rate column\n",
    "print(df[['view_count', 'comment_count', 'like_count', 'save_count', 'share_count', 'engagement_rate']])"
   ]
  },
  {
   "cell_type": "code",
   "execution_count": 7,
   "metadata": {},
   "outputs": [
    {
     "data": {
      "application/vnd.plotly.v1+json": {
       "config": {
        "plotlyServerURL": "https://plot.ly"
       },
       "data": [
        {
         "domain": {
          "x": [
           0,
           1
          ],
          "y": [
           0,
           1
          ]
         },
         "hovertemplate": "hashtag=%{label}<br>total_view_count=%{value}<extra></extra>",
         "labels": [
          "#contentcreatortips",
          "#tiktoktips",
          "#contentcreator",
          "#creatortips",
          "#tiktokgrowth",
          "#socialmediamarketing",
          "#ugccreator",
          "#contentcreation",
          "#tiktokstrategy",
          "#creatorsearchinsights",
          "#fyp",
          "#tiktoknews",
          "#tiktokupdates",
          "#greenscreenvideo",
          "#instagramphototips",
          "#iphonephotography",
          "#phototips",
          "#instagramphotoidea",
          "#capcut",
          "#capcuttutorial",
          "#socialmediatips",
          "#ugctips",
          "#growontiktok",
          "#videotips",
          "#greenscreen"
         ],
         "legendgroup": "",
         "name": "",
         "showlegend": true,
         "type": "pie",
         "values": [
          45178387,
          22216765,
          19857332,
          18579100,
          16279200,
          14983900,
          13912213,
          12931313,
          12879700,
          11842300,
          10850555,
          10500000,
          10500000,
          9441900,
          9400000,
          9400000,
          9400000,
          9400000,
          9352613,
          9352613,
          9190900,
          8903413,
          8655200,
          8593600,
          7767900
         ]
        }
       ],
       "layout": {
        "legend": {
         "tracegroupgap": 0
        },
        "template": {
         "data": {
          "bar": [
           {
            "error_x": {
             "color": "#2a3f5f"
            },
            "error_y": {
             "color": "#2a3f5f"
            },
            "marker": {
             "line": {
              "color": "#E5ECF6",
              "width": 0.5
             },
             "pattern": {
              "fillmode": "overlay",
              "size": 10,
              "solidity": 0.2
             }
            },
            "type": "bar"
           }
          ],
          "barpolar": [
           {
            "marker": {
             "line": {
              "color": "#E5ECF6",
              "width": 0.5
             },
             "pattern": {
              "fillmode": "overlay",
              "size": 10,
              "solidity": 0.2
             }
            },
            "type": "barpolar"
           }
          ],
          "carpet": [
           {
            "aaxis": {
             "endlinecolor": "#2a3f5f",
             "gridcolor": "white",
             "linecolor": "white",
             "minorgridcolor": "white",
             "startlinecolor": "#2a3f5f"
            },
            "baxis": {
             "endlinecolor": "#2a3f5f",
             "gridcolor": "white",
             "linecolor": "white",
             "minorgridcolor": "white",
             "startlinecolor": "#2a3f5f"
            },
            "type": "carpet"
           }
          ],
          "choropleth": [
           {
            "colorbar": {
             "outlinewidth": 0,
             "ticks": ""
            },
            "type": "choropleth"
           }
          ],
          "contour": [
           {
            "colorbar": {
             "outlinewidth": 0,
             "ticks": ""
            },
            "colorscale": [
             [
              0,
              "#0d0887"
             ],
             [
              0.1111111111111111,
              "#46039f"
             ],
             [
              0.2222222222222222,
              "#7201a8"
             ],
             [
              0.3333333333333333,
              "#9c179e"
             ],
             [
              0.4444444444444444,
              "#bd3786"
             ],
             [
              0.5555555555555556,
              "#d8576b"
             ],
             [
              0.6666666666666666,
              "#ed7953"
             ],
             [
              0.7777777777777778,
              "#fb9f3a"
             ],
             [
              0.8888888888888888,
              "#fdca26"
             ],
             [
              1,
              "#f0f921"
             ]
            ],
            "type": "contour"
           }
          ],
          "contourcarpet": [
           {
            "colorbar": {
             "outlinewidth": 0,
             "ticks": ""
            },
            "type": "contourcarpet"
           }
          ],
          "heatmap": [
           {
            "colorbar": {
             "outlinewidth": 0,
             "ticks": ""
            },
            "colorscale": [
             [
              0,
              "#0d0887"
             ],
             [
              0.1111111111111111,
              "#46039f"
             ],
             [
              0.2222222222222222,
              "#7201a8"
             ],
             [
              0.3333333333333333,
              "#9c179e"
             ],
             [
              0.4444444444444444,
              "#bd3786"
             ],
             [
              0.5555555555555556,
              "#d8576b"
             ],
             [
              0.6666666666666666,
              "#ed7953"
             ],
             [
              0.7777777777777778,
              "#fb9f3a"
             ],
             [
              0.8888888888888888,
              "#fdca26"
             ],
             [
              1,
              "#f0f921"
             ]
            ],
            "type": "heatmap"
           }
          ],
          "heatmapgl": [
           {
            "colorbar": {
             "outlinewidth": 0,
             "ticks": ""
            },
            "colorscale": [
             [
              0,
              "#0d0887"
             ],
             [
              0.1111111111111111,
              "#46039f"
             ],
             [
              0.2222222222222222,
              "#7201a8"
             ],
             [
              0.3333333333333333,
              "#9c179e"
             ],
             [
              0.4444444444444444,
              "#bd3786"
             ],
             [
              0.5555555555555556,
              "#d8576b"
             ],
             [
              0.6666666666666666,
              "#ed7953"
             ],
             [
              0.7777777777777778,
              "#fb9f3a"
             ],
             [
              0.8888888888888888,
              "#fdca26"
             ],
             [
              1,
              "#f0f921"
             ]
            ],
            "type": "heatmapgl"
           }
          ],
          "histogram": [
           {
            "marker": {
             "pattern": {
              "fillmode": "overlay",
              "size": 10,
              "solidity": 0.2
             }
            },
            "type": "histogram"
           }
          ],
          "histogram2d": [
           {
            "colorbar": {
             "outlinewidth": 0,
             "ticks": ""
            },
            "colorscale": [
             [
              0,
              "#0d0887"
             ],
             [
              0.1111111111111111,
              "#46039f"
             ],
             [
              0.2222222222222222,
              "#7201a8"
             ],
             [
              0.3333333333333333,
              "#9c179e"
             ],
             [
              0.4444444444444444,
              "#bd3786"
             ],
             [
              0.5555555555555556,
              "#d8576b"
             ],
             [
              0.6666666666666666,
              "#ed7953"
             ],
             [
              0.7777777777777778,
              "#fb9f3a"
             ],
             [
              0.8888888888888888,
              "#fdca26"
             ],
             [
              1,
              "#f0f921"
             ]
            ],
            "type": "histogram2d"
           }
          ],
          "histogram2dcontour": [
           {
            "colorbar": {
             "outlinewidth": 0,
             "ticks": ""
            },
            "colorscale": [
             [
              0,
              "#0d0887"
             ],
             [
              0.1111111111111111,
              "#46039f"
             ],
             [
              0.2222222222222222,
              "#7201a8"
             ],
             [
              0.3333333333333333,
              "#9c179e"
             ],
             [
              0.4444444444444444,
              "#bd3786"
             ],
             [
              0.5555555555555556,
              "#d8576b"
             ],
             [
              0.6666666666666666,
              "#ed7953"
             ],
             [
              0.7777777777777778,
              "#fb9f3a"
             ],
             [
              0.8888888888888888,
              "#fdca26"
             ],
             [
              1,
              "#f0f921"
             ]
            ],
            "type": "histogram2dcontour"
           }
          ],
          "mesh3d": [
           {
            "colorbar": {
             "outlinewidth": 0,
             "ticks": ""
            },
            "type": "mesh3d"
           }
          ],
          "parcoords": [
           {
            "line": {
             "colorbar": {
              "outlinewidth": 0,
              "ticks": ""
             }
            },
            "type": "parcoords"
           }
          ],
          "pie": [
           {
            "automargin": true,
            "type": "pie"
           }
          ],
          "scatter": [
           {
            "fillpattern": {
             "fillmode": "overlay",
             "size": 10,
             "solidity": 0.2
            },
            "type": "scatter"
           }
          ],
          "scatter3d": [
           {
            "line": {
             "colorbar": {
              "outlinewidth": 0,
              "ticks": ""
             }
            },
            "marker": {
             "colorbar": {
              "outlinewidth": 0,
              "ticks": ""
             }
            },
            "type": "scatter3d"
           }
          ],
          "scattercarpet": [
           {
            "marker": {
             "colorbar": {
              "outlinewidth": 0,
              "ticks": ""
             }
            },
            "type": "scattercarpet"
           }
          ],
          "scattergeo": [
           {
            "marker": {
             "colorbar": {
              "outlinewidth": 0,
              "ticks": ""
             }
            },
            "type": "scattergeo"
           }
          ],
          "scattergl": [
           {
            "marker": {
             "colorbar": {
              "outlinewidth": 0,
              "ticks": ""
             }
            },
            "type": "scattergl"
           }
          ],
          "scattermapbox": [
           {
            "marker": {
             "colorbar": {
              "outlinewidth": 0,
              "ticks": ""
             }
            },
            "type": "scattermapbox"
           }
          ],
          "scatterpolar": [
           {
            "marker": {
             "colorbar": {
              "outlinewidth": 0,
              "ticks": ""
             }
            },
            "type": "scatterpolar"
           }
          ],
          "scatterpolargl": [
           {
            "marker": {
             "colorbar": {
              "outlinewidth": 0,
              "ticks": ""
             }
            },
            "type": "scatterpolargl"
           }
          ],
          "scatterternary": [
           {
            "marker": {
             "colorbar": {
              "outlinewidth": 0,
              "ticks": ""
             }
            },
            "type": "scatterternary"
           }
          ],
          "surface": [
           {
            "colorbar": {
             "outlinewidth": 0,
             "ticks": ""
            },
            "colorscale": [
             [
              0,
              "#0d0887"
             ],
             [
              0.1111111111111111,
              "#46039f"
             ],
             [
              0.2222222222222222,
              "#7201a8"
             ],
             [
              0.3333333333333333,
              "#9c179e"
             ],
             [
              0.4444444444444444,
              "#bd3786"
             ],
             [
              0.5555555555555556,
              "#d8576b"
             ],
             [
              0.6666666666666666,
              "#ed7953"
             ],
             [
              0.7777777777777778,
              "#fb9f3a"
             ],
             [
              0.8888888888888888,
              "#fdca26"
             ],
             [
              1,
              "#f0f921"
             ]
            ],
            "type": "surface"
           }
          ],
          "table": [
           {
            "cells": {
             "fill": {
              "color": "#EBF0F8"
             },
             "line": {
              "color": "white"
             }
            },
            "header": {
             "fill": {
              "color": "#C8D4E3"
             },
             "line": {
              "color": "white"
             }
            },
            "type": "table"
           }
          ]
         },
         "layout": {
          "annotationdefaults": {
           "arrowcolor": "#2a3f5f",
           "arrowhead": 0,
           "arrowwidth": 1
          },
          "autotypenumbers": "strict",
          "coloraxis": {
           "colorbar": {
            "outlinewidth": 0,
            "ticks": ""
           }
          },
          "colorscale": {
           "diverging": [
            [
             0,
             "#8e0152"
            ],
            [
             0.1,
             "#c51b7d"
            ],
            [
             0.2,
             "#de77ae"
            ],
            [
             0.3,
             "#f1b6da"
            ],
            [
             0.4,
             "#fde0ef"
            ],
            [
             0.5,
             "#f7f7f7"
            ],
            [
             0.6,
             "#e6f5d0"
            ],
            [
             0.7,
             "#b8e186"
            ],
            [
             0.8,
             "#7fbc41"
            ],
            [
             0.9,
             "#4d9221"
            ],
            [
             1,
             "#276419"
            ]
           ],
           "sequential": [
            [
             0,
             "#0d0887"
            ],
            [
             0.1111111111111111,
             "#46039f"
            ],
            [
             0.2222222222222222,
             "#7201a8"
            ],
            [
             0.3333333333333333,
             "#9c179e"
            ],
            [
             0.4444444444444444,
             "#bd3786"
            ],
            [
             0.5555555555555556,
             "#d8576b"
            ],
            [
             0.6666666666666666,
             "#ed7953"
            ],
            [
             0.7777777777777778,
             "#fb9f3a"
            ],
            [
             0.8888888888888888,
             "#fdca26"
            ],
            [
             1,
             "#f0f921"
            ]
           ],
           "sequentialminus": [
            [
             0,
             "#0d0887"
            ],
            [
             0.1111111111111111,
             "#46039f"
            ],
            [
             0.2222222222222222,
             "#7201a8"
            ],
            [
             0.3333333333333333,
             "#9c179e"
            ],
            [
             0.4444444444444444,
             "#bd3786"
            ],
            [
             0.5555555555555556,
             "#d8576b"
            ],
            [
             0.6666666666666666,
             "#ed7953"
            ],
            [
             0.7777777777777778,
             "#fb9f3a"
            ],
            [
             0.8888888888888888,
             "#fdca26"
            ],
            [
             1,
             "#f0f921"
            ]
           ]
          },
          "colorway": [
           "#636efa",
           "#EF553B",
           "#00cc96",
           "#ab63fa",
           "#FFA15A",
           "#19d3f3",
           "#FF6692",
           "#B6E880",
           "#FF97FF",
           "#FECB52"
          ],
          "font": {
           "color": "#2a3f5f"
          },
          "geo": {
           "bgcolor": "white",
           "lakecolor": "white",
           "landcolor": "#E5ECF6",
           "showlakes": true,
           "showland": true,
           "subunitcolor": "white"
          },
          "hoverlabel": {
           "align": "left"
          },
          "hovermode": "closest",
          "mapbox": {
           "style": "light"
          },
          "paper_bgcolor": "white",
          "plot_bgcolor": "#E5ECF6",
          "polar": {
           "angularaxis": {
            "gridcolor": "white",
            "linecolor": "white",
            "ticks": ""
           },
           "bgcolor": "#E5ECF6",
           "radialaxis": {
            "gridcolor": "white",
            "linecolor": "white",
            "ticks": ""
           }
          },
          "scene": {
           "xaxis": {
            "backgroundcolor": "#E5ECF6",
            "gridcolor": "white",
            "gridwidth": 2,
            "linecolor": "white",
            "showbackground": true,
            "ticks": "",
            "zerolinecolor": "white"
           },
           "yaxis": {
            "backgroundcolor": "#E5ECF6",
            "gridcolor": "white",
            "gridwidth": 2,
            "linecolor": "white",
            "showbackground": true,
            "ticks": "",
            "zerolinecolor": "white"
           },
           "zaxis": {
            "backgroundcolor": "#E5ECF6",
            "gridcolor": "white",
            "gridwidth": 2,
            "linecolor": "white",
            "showbackground": true,
            "ticks": "",
            "zerolinecolor": "white"
           }
          },
          "shapedefaults": {
           "line": {
            "color": "#2a3f5f"
           }
          },
          "ternary": {
           "aaxis": {
            "gridcolor": "white",
            "linecolor": "white",
            "ticks": ""
           },
           "baxis": {
            "gridcolor": "white",
            "linecolor": "white",
            "ticks": ""
           },
           "bgcolor": "#E5ECF6",
           "caxis": {
            "gridcolor": "white",
            "linecolor": "white",
            "ticks": ""
           }
          },
          "title": {
           "x": 0.05
          },
          "xaxis": {
           "automargin": true,
           "gridcolor": "white",
           "linecolor": "white",
           "ticks": "",
           "title": {
            "standoff": 15
           },
           "zerolinecolor": "white",
           "zerolinewidth": 2
          },
          "yaxis": {
           "automargin": true,
           "gridcolor": "white",
           "linecolor": "white",
           "ticks": "",
           "title": {
            "standoff": 15
           },
           "zerolinecolor": "white",
           "zerolinewidth": 2
          }
         }
        },
        "title": {
         "text": "Top Hashtags by Total View Count"
        }
       }
      }
     },
     "metadata": {},
     "output_type": "display_data"
    },
    {
     "data": {
      "application/vnd.plotly.v1+json": {
       "config": {
        "plotlyServerURL": "https://plot.ly"
       },
       "data": [
        {
         "domain": {
          "x": [
           0,
           1
          ],
          "y": [
           0,
           1
          ]
         },
         "hovertemplate": "hashtag=%{label}<br>avg_engagement_rate=%{value}<extra></extra>",
         "labels": [
          "#contentcreatortips",
          "#tiktoktips",
          "#contentcreator",
          "#creatortips",
          "#tiktokgrowth",
          "#socialmediamarketing",
          "#ugccreator",
          "#contentcreation",
          "#tiktokstrategy",
          "#creatorsearchinsights",
          "#fyp",
          "#tiktoknews",
          "#tiktokupdates",
          "#greenscreenvideo",
          "#instagramphototips",
          "#iphonephotography",
          "#phototips",
          "#instagramphotoidea",
          "#capcut",
          "#capcuttutorial",
          "#socialmediatips",
          "#ugctips",
          "#growontiktok",
          "#videotips",
          "#greenscreen"
         ],
         "legendgroup": "",
         "name": "",
         "showlegend": true,
         "type": "pie",
         "values": [
          0.1393200417594533,
          0.11582265949943639,
          0.13443121503179853,
          0.12468978263107341,
          0.10583888640274607,
          0.1182477085709821,
          0.1178110341616062,
          0.12188370388306317,
          0.10305081195006695,
          0.17712002792762582,
          0.1173437065474634,
          0.122384,
          0.122384,
          0.17655528779261664,
          0.2244709574468085,
          0.2244709574468085,
          0.2244709574468085,
          0.2244709574468085,
          0.08539446470113794,
          0.08539446470113794,
          0.13914751167090775,
          0.0921741889664875,
          0.11357644781618145,
          0.09575522466838078,
          0.12340192908131165
         ]
        }
       ],
       "layout": {
        "legend": {
         "tracegroupgap": 0
        },
        "template": {
         "data": {
          "bar": [
           {
            "error_x": {
             "color": "#2a3f5f"
            },
            "error_y": {
             "color": "#2a3f5f"
            },
            "marker": {
             "line": {
              "color": "#E5ECF6",
              "width": 0.5
             },
             "pattern": {
              "fillmode": "overlay",
              "size": 10,
              "solidity": 0.2
             }
            },
            "type": "bar"
           }
          ],
          "barpolar": [
           {
            "marker": {
             "line": {
              "color": "#E5ECF6",
              "width": 0.5
             },
             "pattern": {
              "fillmode": "overlay",
              "size": 10,
              "solidity": 0.2
             }
            },
            "type": "barpolar"
           }
          ],
          "carpet": [
           {
            "aaxis": {
             "endlinecolor": "#2a3f5f",
             "gridcolor": "white",
             "linecolor": "white",
             "minorgridcolor": "white",
             "startlinecolor": "#2a3f5f"
            },
            "baxis": {
             "endlinecolor": "#2a3f5f",
             "gridcolor": "white",
             "linecolor": "white",
             "minorgridcolor": "white",
             "startlinecolor": "#2a3f5f"
            },
            "type": "carpet"
           }
          ],
          "choropleth": [
           {
            "colorbar": {
             "outlinewidth": 0,
             "ticks": ""
            },
            "type": "choropleth"
           }
          ],
          "contour": [
           {
            "colorbar": {
             "outlinewidth": 0,
             "ticks": ""
            },
            "colorscale": [
             [
              0,
              "#0d0887"
             ],
             [
              0.1111111111111111,
              "#46039f"
             ],
             [
              0.2222222222222222,
              "#7201a8"
             ],
             [
              0.3333333333333333,
              "#9c179e"
             ],
             [
              0.4444444444444444,
              "#bd3786"
             ],
             [
              0.5555555555555556,
              "#d8576b"
             ],
             [
              0.6666666666666666,
              "#ed7953"
             ],
             [
              0.7777777777777778,
              "#fb9f3a"
             ],
             [
              0.8888888888888888,
              "#fdca26"
             ],
             [
              1,
              "#f0f921"
             ]
            ],
            "type": "contour"
           }
          ],
          "contourcarpet": [
           {
            "colorbar": {
             "outlinewidth": 0,
             "ticks": ""
            },
            "type": "contourcarpet"
           }
          ],
          "heatmap": [
           {
            "colorbar": {
             "outlinewidth": 0,
             "ticks": ""
            },
            "colorscale": [
             [
              0,
              "#0d0887"
             ],
             [
              0.1111111111111111,
              "#46039f"
             ],
             [
              0.2222222222222222,
              "#7201a8"
             ],
             [
              0.3333333333333333,
              "#9c179e"
             ],
             [
              0.4444444444444444,
              "#bd3786"
             ],
             [
              0.5555555555555556,
              "#d8576b"
             ],
             [
              0.6666666666666666,
              "#ed7953"
             ],
             [
              0.7777777777777778,
              "#fb9f3a"
             ],
             [
              0.8888888888888888,
              "#fdca26"
             ],
             [
              1,
              "#f0f921"
             ]
            ],
            "type": "heatmap"
           }
          ],
          "heatmapgl": [
           {
            "colorbar": {
             "outlinewidth": 0,
             "ticks": ""
            },
            "colorscale": [
             [
              0,
              "#0d0887"
             ],
             [
              0.1111111111111111,
              "#46039f"
             ],
             [
              0.2222222222222222,
              "#7201a8"
             ],
             [
              0.3333333333333333,
              "#9c179e"
             ],
             [
              0.4444444444444444,
              "#bd3786"
             ],
             [
              0.5555555555555556,
              "#d8576b"
             ],
             [
              0.6666666666666666,
              "#ed7953"
             ],
             [
              0.7777777777777778,
              "#fb9f3a"
             ],
             [
              0.8888888888888888,
              "#fdca26"
             ],
             [
              1,
              "#f0f921"
             ]
            ],
            "type": "heatmapgl"
           }
          ],
          "histogram": [
           {
            "marker": {
             "pattern": {
              "fillmode": "overlay",
              "size": 10,
              "solidity": 0.2
             }
            },
            "type": "histogram"
           }
          ],
          "histogram2d": [
           {
            "colorbar": {
             "outlinewidth": 0,
             "ticks": ""
            },
            "colorscale": [
             [
              0,
              "#0d0887"
             ],
             [
              0.1111111111111111,
              "#46039f"
             ],
             [
              0.2222222222222222,
              "#7201a8"
             ],
             [
              0.3333333333333333,
              "#9c179e"
             ],
             [
              0.4444444444444444,
              "#bd3786"
             ],
             [
              0.5555555555555556,
              "#d8576b"
             ],
             [
              0.6666666666666666,
              "#ed7953"
             ],
             [
              0.7777777777777778,
              "#fb9f3a"
             ],
             [
              0.8888888888888888,
              "#fdca26"
             ],
             [
              1,
              "#f0f921"
             ]
            ],
            "type": "histogram2d"
           }
          ],
          "histogram2dcontour": [
           {
            "colorbar": {
             "outlinewidth": 0,
             "ticks": ""
            },
            "colorscale": [
             [
              0,
              "#0d0887"
             ],
             [
              0.1111111111111111,
              "#46039f"
             ],
             [
              0.2222222222222222,
              "#7201a8"
             ],
             [
              0.3333333333333333,
              "#9c179e"
             ],
             [
              0.4444444444444444,
              "#bd3786"
             ],
             [
              0.5555555555555556,
              "#d8576b"
             ],
             [
              0.6666666666666666,
              "#ed7953"
             ],
             [
              0.7777777777777778,
              "#fb9f3a"
             ],
             [
              0.8888888888888888,
              "#fdca26"
             ],
             [
              1,
              "#f0f921"
             ]
            ],
            "type": "histogram2dcontour"
           }
          ],
          "mesh3d": [
           {
            "colorbar": {
             "outlinewidth": 0,
             "ticks": ""
            },
            "type": "mesh3d"
           }
          ],
          "parcoords": [
           {
            "line": {
             "colorbar": {
              "outlinewidth": 0,
              "ticks": ""
             }
            },
            "type": "parcoords"
           }
          ],
          "pie": [
           {
            "automargin": true,
            "type": "pie"
           }
          ],
          "scatter": [
           {
            "fillpattern": {
             "fillmode": "overlay",
             "size": 10,
             "solidity": 0.2
            },
            "type": "scatter"
           }
          ],
          "scatter3d": [
           {
            "line": {
             "colorbar": {
              "outlinewidth": 0,
              "ticks": ""
             }
            },
            "marker": {
             "colorbar": {
              "outlinewidth": 0,
              "ticks": ""
             }
            },
            "type": "scatter3d"
           }
          ],
          "scattercarpet": [
           {
            "marker": {
             "colorbar": {
              "outlinewidth": 0,
              "ticks": ""
             }
            },
            "type": "scattercarpet"
           }
          ],
          "scattergeo": [
           {
            "marker": {
             "colorbar": {
              "outlinewidth": 0,
              "ticks": ""
             }
            },
            "type": "scattergeo"
           }
          ],
          "scattergl": [
           {
            "marker": {
             "colorbar": {
              "outlinewidth": 0,
              "ticks": ""
             }
            },
            "type": "scattergl"
           }
          ],
          "scattermapbox": [
           {
            "marker": {
             "colorbar": {
              "outlinewidth": 0,
              "ticks": ""
             }
            },
            "type": "scattermapbox"
           }
          ],
          "scatterpolar": [
           {
            "marker": {
             "colorbar": {
              "outlinewidth": 0,
              "ticks": ""
             }
            },
            "type": "scatterpolar"
           }
          ],
          "scatterpolargl": [
           {
            "marker": {
             "colorbar": {
              "outlinewidth": 0,
              "ticks": ""
             }
            },
            "type": "scatterpolargl"
           }
          ],
          "scatterternary": [
           {
            "marker": {
             "colorbar": {
              "outlinewidth": 0,
              "ticks": ""
             }
            },
            "type": "scatterternary"
           }
          ],
          "surface": [
           {
            "colorbar": {
             "outlinewidth": 0,
             "ticks": ""
            },
            "colorscale": [
             [
              0,
              "#0d0887"
             ],
             [
              0.1111111111111111,
              "#46039f"
             ],
             [
              0.2222222222222222,
              "#7201a8"
             ],
             [
              0.3333333333333333,
              "#9c179e"
             ],
             [
              0.4444444444444444,
              "#bd3786"
             ],
             [
              0.5555555555555556,
              "#d8576b"
             ],
             [
              0.6666666666666666,
              "#ed7953"
             ],
             [
              0.7777777777777778,
              "#fb9f3a"
             ],
             [
              0.8888888888888888,
              "#fdca26"
             ],
             [
              1,
              "#f0f921"
             ]
            ],
            "type": "surface"
           }
          ],
          "table": [
           {
            "cells": {
             "fill": {
              "color": "#EBF0F8"
             },
             "line": {
              "color": "white"
             }
            },
            "header": {
             "fill": {
              "color": "#C8D4E3"
             },
             "line": {
              "color": "white"
             }
            },
            "type": "table"
           }
          ]
         },
         "layout": {
          "annotationdefaults": {
           "arrowcolor": "#2a3f5f",
           "arrowhead": 0,
           "arrowwidth": 1
          },
          "autotypenumbers": "strict",
          "coloraxis": {
           "colorbar": {
            "outlinewidth": 0,
            "ticks": ""
           }
          },
          "colorscale": {
           "diverging": [
            [
             0,
             "#8e0152"
            ],
            [
             0.1,
             "#c51b7d"
            ],
            [
             0.2,
             "#de77ae"
            ],
            [
             0.3,
             "#f1b6da"
            ],
            [
             0.4,
             "#fde0ef"
            ],
            [
             0.5,
             "#f7f7f7"
            ],
            [
             0.6,
             "#e6f5d0"
            ],
            [
             0.7,
             "#b8e186"
            ],
            [
             0.8,
             "#7fbc41"
            ],
            [
             0.9,
             "#4d9221"
            ],
            [
             1,
             "#276419"
            ]
           ],
           "sequential": [
            [
             0,
             "#0d0887"
            ],
            [
             0.1111111111111111,
             "#46039f"
            ],
            [
             0.2222222222222222,
             "#7201a8"
            ],
            [
             0.3333333333333333,
             "#9c179e"
            ],
            [
             0.4444444444444444,
             "#bd3786"
            ],
            [
             0.5555555555555556,
             "#d8576b"
            ],
            [
             0.6666666666666666,
             "#ed7953"
            ],
            [
             0.7777777777777778,
             "#fb9f3a"
            ],
            [
             0.8888888888888888,
             "#fdca26"
            ],
            [
             1,
             "#f0f921"
            ]
           ],
           "sequentialminus": [
            [
             0,
             "#0d0887"
            ],
            [
             0.1111111111111111,
             "#46039f"
            ],
            [
             0.2222222222222222,
             "#7201a8"
            ],
            [
             0.3333333333333333,
             "#9c179e"
            ],
            [
             0.4444444444444444,
             "#bd3786"
            ],
            [
             0.5555555555555556,
             "#d8576b"
            ],
            [
             0.6666666666666666,
             "#ed7953"
            ],
            [
             0.7777777777777778,
             "#fb9f3a"
            ],
            [
             0.8888888888888888,
             "#fdca26"
            ],
            [
             1,
             "#f0f921"
            ]
           ]
          },
          "colorway": [
           "#636efa",
           "#EF553B",
           "#00cc96",
           "#ab63fa",
           "#FFA15A",
           "#19d3f3",
           "#FF6692",
           "#B6E880",
           "#FF97FF",
           "#FECB52"
          ],
          "font": {
           "color": "#2a3f5f"
          },
          "geo": {
           "bgcolor": "white",
           "lakecolor": "white",
           "landcolor": "#E5ECF6",
           "showlakes": true,
           "showland": true,
           "subunitcolor": "white"
          },
          "hoverlabel": {
           "align": "left"
          },
          "hovermode": "closest",
          "mapbox": {
           "style": "light"
          },
          "paper_bgcolor": "white",
          "plot_bgcolor": "#E5ECF6",
          "polar": {
           "angularaxis": {
            "gridcolor": "white",
            "linecolor": "white",
            "ticks": ""
           },
           "bgcolor": "#E5ECF6",
           "radialaxis": {
            "gridcolor": "white",
            "linecolor": "white",
            "ticks": ""
           }
          },
          "scene": {
           "xaxis": {
            "backgroundcolor": "#E5ECF6",
            "gridcolor": "white",
            "gridwidth": 2,
            "linecolor": "white",
            "showbackground": true,
            "ticks": "",
            "zerolinecolor": "white"
           },
           "yaxis": {
            "backgroundcolor": "#E5ECF6",
            "gridcolor": "white",
            "gridwidth": 2,
            "linecolor": "white",
            "showbackground": true,
            "ticks": "",
            "zerolinecolor": "white"
           },
           "zaxis": {
            "backgroundcolor": "#E5ECF6",
            "gridcolor": "white",
            "gridwidth": 2,
            "linecolor": "white",
            "showbackground": true,
            "ticks": "",
            "zerolinecolor": "white"
           }
          },
          "shapedefaults": {
           "line": {
            "color": "#2a3f5f"
           }
          },
          "ternary": {
           "aaxis": {
            "gridcolor": "white",
            "linecolor": "white",
            "ticks": ""
           },
           "baxis": {
            "gridcolor": "white",
            "linecolor": "white",
            "ticks": ""
           },
           "bgcolor": "#E5ECF6",
           "caxis": {
            "gridcolor": "white",
            "linecolor": "white",
            "ticks": ""
           }
          },
          "title": {
           "x": 0.05
          },
          "xaxis": {
           "automargin": true,
           "gridcolor": "white",
           "linecolor": "white",
           "ticks": "",
           "title": {
            "standoff": 15
           },
           "zerolinecolor": "white",
           "zerolinewidth": 2
          },
          "yaxis": {
           "automargin": true,
           "gridcolor": "white",
           "linecolor": "white",
           "ticks": "",
           "title": {
            "standoff": 15
           },
           "zerolinecolor": "white",
           "zerolinewidth": 2
          }
         }
        },
        "title": {
         "text": "Top Hashtags by Average Engagement Rate"
        }
       }
      }
     },
     "metadata": {},
     "output_type": "display_data"
    }
   ],
   "source": [
    "import plotly.express as px\n",
    "\n",
    "## Pivot table\n",
    "# Function to calculate the top hashtags by total view count, engagement rate, and other metrics\n",
    "def calculate_top_hashtags(df, top_n=25):\n",
    "    # Dictionary to store hashtag data\n",
    "    hashtag_data = {}\n",
    "    \n",
    "    # Iterate through each row in the DataFrame\n",
    "    for idx, row in df.iterrows():\n",
    "        hashtags = row['hashtags']  # List of hashtags in the row\n",
    "        view_count = row['view_count']\n",
    "        comment_count = row['comment_count']\n",
    "        like_count = row['like_count']\n",
    "        save_count = row['save_count']\n",
    "        share_count = row['share_count']\n",
    "        engagement_rate = row['engagement_rate']\n",
    "        \n",
    "        # For each hashtag, update its total view count, engagement rate, and other metrics\n",
    "        for hashtag in hashtags:\n",
    "            if hashtag not in hashtag_data:\n",
    "                hashtag_data[hashtag] = {\n",
    "                    'total_view_count': 0,\n",
    "                    'total_comment_count': 0,\n",
    "                    'total_like_count': 0,\n",
    "                    'total_save_count': 0,\n",
    "                    'total_share_count': 0,\n",
    "                    'engagement_rates': []\n",
    "                }\n",
    "            \n",
    "            # Add view count and engagement rate to the hashtag\n",
    "            hashtag_data[hashtag]['total_view_count'] += view_count\n",
    "            hashtag_data[hashtag]['total_comment_count'] += comment_count\n",
    "            hashtag_data[hashtag]['total_like_count'] += like_count\n",
    "            hashtag_data[hashtag]['total_save_count'] += save_count\n",
    "            hashtag_data[hashtag]['total_share_count'] += share_count\n",
    "            hashtag_data[hashtag]['engagement_rates'].append(engagement_rate)\n",
    "    \n",
    "    # Create a list to store the aggregated data\n",
    "    aggregated_data = []\n",
    "\n",
    "    # Calculate the total view count, engagement rate, and other metrics for each hashtag\n",
    "    for hashtag, data in hashtag_data.items():\n",
    "        total_view_count = data['total_view_count']\n",
    "        total_comment_count = data['total_comment_count']\n",
    "        total_like_count = data['total_like_count']\n",
    "        total_save_count = data['total_save_count']\n",
    "        total_share_count = data['total_share_count']\n",
    "        avg_engagement_rate = sum(data['engagement_rates']) / len(data['engagement_rates'])\n",
    "        \n",
    "        aggregated_data.append({\n",
    "            'hashtag': hashtag,\n",
    "            'total_view_count': total_view_count,\n",
    "            'total_comment_count': total_comment_count,\n",
    "            'total_like_count': total_like_count,\n",
    "            'total_save_count': total_save_count,\n",
    "            'total_share_count': total_share_count,\n",
    "            'avg_engagement_rate': avg_engagement_rate\n",
    "        })\n",
    "    \n",
    "    # Create a new DataFrame from the aggregated data\n",
    "    hashtag_df = pd.DataFrame(aggregated_data)\n",
    "    \n",
    "    # Sort the DataFrame by total view count and select the top N hashtags\n",
    "    top_hashtags_df = hashtag_df.sort_values(by='total_view_count', ascending=False).head(top_n)\n",
    "    \n",
    "    return top_hashtags_df\n",
    "\n",
    "# Call the function and get the top 25 hashtags\n",
    "top_hashtags_df = calculate_top_hashtags(df, top_n=25)\n",
    "\n",
    "# Plot Pie Chart for Total View Count\n",
    "fig_view_count = px.pie(top_hashtags_df, \n",
    "                        values='total_view_count', \n",
    "                        names='hashtag', \n",
    "                        title='Top Hashtags by Total View Count')\n",
    "\n",
    "# Plot Pie Chart for Average Engagement Rate\n",
    "fig_engagement_rate = px.pie(top_hashtags_df, \n",
    "                             values='avg_engagement_rate', \n",
    "                             names='hashtag', \n",
    "                             title='Top Hashtags by Average Engagement Rate')\n",
    "\n",
    "# Show the two pie charts\n",
    "fig_view_count.show()\n",
    "fig_engagement_rate.show()\n",
    "\n",
    "# Show the resulting DataFrame with the top 25 hashtags and their metrics\n",
    "#print(top_hashtags_df.head())"
   ]
  },
  {
   "cell_type": "code",
   "execution_count": 8,
   "metadata": {},
   "outputs": [
    {
     "data": {
      "image/png": "[encoded data removed]",
      "text/plain": [
       "<Figure size 1000x600 with 1 Axes>"
      ]
     },
     "metadata": {},
     "output_type": "display_data"
    }
   ],
   "source": [
    "import matplotlib.pyplot as plt\n",
    "\n",
    "# Some creators appear multiple times in this search. Let's see who they are.\n",
    "def check_multiple_entries(df):\n",
    "    # Group by 'username' and count the number of occurrences for each username\n",
    "    username_counts = df['username'].value_counts()\n",
    "    \n",
    "    # Filter for usernames that appear more than once\n",
    "    duplicate_usernames = username_counts[username_counts > 1]\n",
    "    \n",
    "    # Output the usernames and the number of times they appear\n",
    "    if not duplicate_usernames.empty:\n",
    "        '''print(\"Usernames with more than one row:\")\n",
    "        for username, count in duplicate_usernames.items():\n",
    "            print(f\"{username}: {count} rows\")'''\n",
    "\n",
    "        # Plotting the bar chart\n",
    "        plt.figure(figsize=(10, 6))\n",
    "        duplicate_usernames.plot(kind='bar', color='skyblue')\n",
    "        plt.title('Usernames with More than One Row')\n",
    "        plt.xlabel('Username')\n",
    "        plt.ylabel('Number of Rows')\n",
    "        plt.xticks(rotation=45, ha='right')  # Rotate x labels for better readability\n",
    "        plt.tight_layout()\n",
    "        plt.show()\n",
    "        \n",
    "    else:\n",
    "        print(\"No duplicate usernames found.\")\n",
    "    \n",
    "    return duplicate_usernames\n",
    "\n",
    "# Example usage:\n",
    "duplicate_usernames = check_multiple_entries(df)"
   ]
  },
  {
   "cell_type": "code",
   "execution_count": 9,
   "metadata": {},
   "outputs": [
    {
     "data": {
      "image/png": "[encoded data removed]",
      "text/plain": [
       "<Figure size 1000x600 with 1 Axes>"
      ]
     },
     "metadata": {},
     "output_type": "display_data"
    },
    {
     "data": {
      "image/png": "[encoded data removed]",
      "text/plain": [
       "<Figure size 1000x600 with 1 Axes>"
      ]
     },
     "metadata": {},
     "output_type": "display_data"
    },
    {
     "data": {
      "image/png": "[encoded data removed]",
      "text/plain": [
       "<Figure size 1000x600 with 1 Axes>"
      ]
     },
     "metadata": {},
     "output_type": "display_data"
    },
    {
     "data": {
      "image/png": "[encoded data removed]",
      "text/plain": [
       "<Figure size 1000x600 with 1 Axes>"
      ]
     },
     "metadata": {},
     "output_type": "display_data"
    }
   ],
   "source": [
    "import seaborn as sns\n",
    "\n",
    "# Function to create a color palette based on unique usernames\n",
    "def get_color_map(usernames):\n",
    "    unique_usernames = usernames.unique()  # Get unique usernames\n",
    "    palette = sns.color_palette('tab20', len(unique_usernames))  # Use 'tab20' palette for more distinct colors\n",
    "    color_map = {user: color for user, color in zip(unique_usernames, palette)}  # Map each username to a color\n",
    "    return color_map\n",
    "\n",
    "# Function to plot the top 10 videos for a given metric, with consistent colors\n",
    "def plot_top_videos(df, metric, title, xlabel, color_map):\n",
    "    # Sort the DataFrame by the selected metric and get the top 10\n",
    "    top_videos = df[['username', metric]].sort_values(by=metric, ascending=False).head(10)\n",
    "\n",
    "    # Get the corresponding colors for the usernames\n",
    "    colors = [color_map[user] for user in top_videos['username']]\n",
    "\n",
    "    # Plot a bar chart\n",
    "    plt.figure(figsize=(10, 6))\n",
    "    plt.barh(top_videos['username'], top_videos[metric], color=colors)\n",
    "    plt.title(f'Top 10 Accounts by {title}')\n",
    "    plt.xlabel(xlabel)\n",
    "    plt.ylabel('Username')\n",
    "    plt.gca().invert_yaxis()  # Invert the y-axis so the highest value is at the top\n",
    "    plt.show()\n",
    "\n",
    "# Generate a color map based on all unique usernames in the dataset\n",
    "color_map = get_color_map(df['username'])\n",
    "\n",
    "# Plot the top 10 accounts for views, likes, comments, and shares using the consistent color scheme\n",
    "plot_top_videos(df, 'view_count', 'Views', 'View Count', color_map)\n",
    "plot_top_videos(df, 'like_count', 'Likes', 'Like Count', color_map)\n",
    "plot_top_videos(df, 'comment_count', 'Comments', 'Comment Count', color_map)\n",
    "plot_top_videos(df, 'share_count', 'Shares', 'Share Count', color_map)"
   ]
  },
  {
   "cell_type": "code",
   "execution_count": 10,
   "metadata": {},
   "outputs": [
    {
     "data": {
      "image/png": "[encoded data removed]",
      "text/plain": [
       "<Figure size 1000x600 with 1 Axes>"
      ]
     },
     "metadata": {},
     "output_type": "display_data"
    },
    {
     "data": {
      "image/png": "[encoded data removed]",
      "text/plain": [
       "<Figure size 1000x600 with 1 Axes>"
      ]
     },
     "metadata": {},
     "output_type": "display_data"
    },
    {
     "data": {
      "image/png": "[encoded data removed]",
      "text/plain": [
       "<Figure size 1000x600 with 1 Axes>"
      ]
     },
     "metadata": {},
     "output_type": "display_data"
    },
    {
     "data": {
      "image/png": "[encoded data removed]",
      "text/plain": [
       "<Figure size 1000x600 with 1 Axes>"
      ]
     },
     "metadata": {},
     "output_type": "display_data"
    }
   ],
   "source": [
    "# Have to handle the case that there are multiple videos from the same account in these search results\n",
    "def aggregate_metrics_per_video(df):\n",
    "    \"\"\"\n",
    "    Aggregates metrics per username and calculates the average performance per video for all metrics.\n",
    "    :param df: DataFrame containing 'username' and the metrics to be aggregated.\n",
    "    :return: A new DataFrame with usernames and average performance per video for all metrics.\n",
    "    \"\"\"\n",
    "    # Group by 'username' and calculate the average for each metric\n",
    "    aggregated = df.groupby('username').agg(\n",
    "        avg_view_count=('view_count', 'mean'),\n",
    "        avg_like_count=('like_count', 'mean'),\n",
    "        avg_comment_count=('comment_count', 'mean'),\n",
    "        avg_share_count=('share_count', 'mean')\n",
    "    ).reset_index()  # Reset index to make 'username' a column again\n",
    "    \n",
    "    return aggregated\n",
    "\n",
    "def plot_top_accounts_per_video(df, metric, title, xlabel, color_map):\n",
    "    \"\"\"\n",
    "    Plots the top 10 accounts based on average performance per video for a given metric.\n",
    "    :param df: DataFrame containing usernames and their metrics.\n",
    "    :param metric: The metric to be plotted (e.g., 'avg_view_count', 'avg_like_count').\n",
    "    :param title: Title of the plot.\n",
    "    :param xlabel: Label for the x-axis.\n",
    "    :param color_map: Dictionary to ensure consistent coloring across usernames.\n",
    "    \"\"\"\n",
    "    # Aggregate metrics per video using the new aggregate function\n",
    "    aggregated = aggregate_metrics_per_video(df)\n",
    "    \n",
    "    # Sort by the selected metric and get the top 10 accounts\n",
    "    top_accounts = aggregated.sort_values(by=metric, ascending=False).head(10)\n",
    "    \n",
    "    # Get the corresponding colors for the usernames\n",
    "    colors = [color_map.get(user, 'gray') for user in top_accounts['username']]\n",
    "    \n",
    "    # Plot a bar chart\n",
    "    plt.figure(figsize=(10, 6))\n",
    "    plt.barh(top_accounts['username'], top_accounts[metric], color=colors)\n",
    "    plt.title(f'Top 10 Accounts by Average {title} Per Video')\n",
    "    plt.xlabel(xlabel)\n",
    "    plt.ylabel('Username')\n",
    "    plt.gca().invert_yaxis()  # Invert the y-axis so the highest value is at the top\n",
    "    plt.show()\n",
    "\n",
    "# Plotting for different metrics\n",
    "plot_top_accounts_per_video(df, 'avg_view_count', 'Views', 'Average View Count Per Video', color_map)\n",
    "plot_top_accounts_per_video(df, 'avg_like_count', 'Likes', 'Average Like Count Per Video', color_map)\n",
    "plot_top_accounts_per_video(df, 'avg_comment_count', 'Comments', 'Average Comment Count Per Video', color_map)\n",
    "plot_top_accounts_per_video(df, 'avg_share_count', 'Shares', 'Average Share Count Per Video', color_map)\n"
   ]
  },
  {
   "cell_type": "code",
   "execution_count": 11,
   "metadata": {},
   "outputs": [
    {
     "data": {
      "image/png": "[encoded data removed]",
      "text/plain": [
       "<Figure size 1000x600 with 1 Axes>"
      ]
     },
     "metadata": {},
     "output_type": "display_data"
    }
   ],
   "source": [
    "from sklearn.preprocessing import MinMaxScaler\n",
    "\n",
    "# Step 1: Normalizing the aggregated data\n",
    "def normalize_and_calculate_composite_score(df, weight_views=0.35, weight_likes=0.25, weight_comments=0.15, weight_shares=0.25):\n",
    "    \"\"\"\n",
    "    Normalizes the metrics and calculates a composite engagement score based on the given weights.\n",
    "    :param df: DataFrame containing the average metrics per video per username.\n",
    "    :param weight_views: Weight for the view count metric.\n",
    "    :param weight_likes: Weight for the like count metric.\n",
    "    :param weight_comments: Weight for the comment count metric.\n",
    "    :param weight_shares: Weight for the share count metric.\n",
    "    :return: DataFrame with normalized metrics and the composite engagement score.\n",
    "    \"\"\"\n",
    "    # apply normalization\n",
    "    scaler = MinMaxScaler()\n",
    "    metrics = df[['avg_view_count', 'avg_like_count', 'avg_comment_count', 'avg_share_count']]\n",
    "    normalized_metrics = scaler.fit_transform(metrics)\n",
    "\n",
    "    # Convert back to a DataFrame\n",
    "    df_normalized = pd.DataFrame(normalized_metrics, columns=['view_count', 'like_count', 'comment_count', 'share_count'])\n",
    "    df_normalized['username'] = df['username'].values  # Ensure usernames are correctly aligned\n",
    "\n",
    "    # Calculate the composite score\n",
    "    df_normalized['engagement_score'] = (\n",
    "        weight_views * df_normalized['view_count'] +\n",
    "        weight_likes * df_normalized['like_count'] +\n",
    "        weight_comments * df_normalized['comment_count'] +\n",
    "        weight_shares * df_normalized['share_count']\n",
    "    )\n",
    "\n",
    "    return df_normalized\n",
    "\n",
    "# STep 2. Plotting the top accounts based on composite engagement score\n",
    "def plot_top_accounts(df_normalized):\n",
    "    \n",
    "    top_accounts = df_normalized.sort_values(by='engagement_score', ascending=False).head(10)\n",
    "\n",
    "    plt.figure(figsize=(10, 6))\n",
    "    sns.barplot(x='engagement_score', y='username', data=top_accounts, hue='username', palette='viridis', legend=False)\n",
    "    plt.title('Top 10 Accounts by Composite Engagement Score')\n",
    "    plt.xlabel('Composite Engagement Score')\n",
    "    plt.ylabel('Username')\n",
    "    plt.show()\n",
    "\n",
    "# Step 3: Combine everything to process the data and generate the final chart\n",
    "def process_and_plot(df):\n",
    "    \n",
    "    aggregated_df = aggregate_metrics_per_video(df)\n",
    "\n",
    "    \n",
    "    df_normalized = normalize_and_calculate_composite_score(aggregated_df)\n",
    "\n",
    "    \n",
    "    plot_top_accounts(df_normalized)\n",
    "\n",
    "process_and_plot(df)"
   ]
  },
  {
   "cell_type": "code",
   "execution_count": 12,
   "metadata": {},
   "outputs": [
    {
     "data": {
      "image/png": "[encoded data removed]",
      "text/plain": [
       "<Figure size 800x600 with 2 Axes>"
      ]
     },
     "metadata": {},
     "output_type": "display_data"
    }
   ],
   "source": [
    "# Set up a correlation matrix to understand how engagement variables and views correlate\n",
    "metrics_df = df[['view_count', 'like_count', 'comment_count', 'share_count']]\n",
    "\n",
    "correlation_matrix = metrics_df.corr()\n",
    "\n",
    "# Plot the correlation matrix using a heatmap\n",
    "plt.figure(figsize=(8, 6))\n",
    "sns.heatmap(correlation_matrix, annot=True, cmap='coolwarm', vmin=-1, vmax=1)\n",
    "plt.title('Correlation Matrix of Video Metrics')\n",
    "plt.show()"
   ]
  },
  {
   "cell_type": "code",
   "execution_count": 13,
   "metadata": {},
   "outputs": [
    {
     "data": {
      "application/vnd.plotly.v1+json": {
       "config": {
        "plotlyServerURL": "https://plot.ly"
       },
       "data": [
        {
         "hovertemplate": "<b>%{hovertext}</b><br><br>Follower Count=%{x}<br>View Count=%{y}<extra></extra>",
         "hovertext": [
          "yourgirl_debssss",
          "ugcwithmephilly",
          "leviacay",
          "theamandalemon",
          "cozy.tealeaf",
          "creolebarb",
          "strategyandsocial",
          "ttshopwithmaddie",
          "theecontentqueen",
          "theecontentqueen",
          "theecontentqueen",
          "theaaronchris",
          "jayynicholee",
          "jbcbeats",
          "celestialjojo",
          "sydlywydly",
          "nalvaz24",
          "nalvaz24",
          "pedro.andradeok",
          "floofysocials",
          "zalginnireels",
          "c0dak_",
          "howtogeekofficial",
          "sarasofiasocialmedia_",
          "lifewithdesidee",
          "jessachan",
          "courtney.tidona",
          "j0nnym0",
          "thejaysonlasala",
          "re.studiomx",
          "halledeneen",
          "sydneynicoleugc",
          "sydneynicoleugc",
          "young_le444",
          "thesocial.bff",
          "thesocial.bff",
          "ethanhshaw",
          "miahniycole",
          "jaylonbrooke",
          "dmitrihasideas",
          "donavanbarrett",
          "tayllorlloyd",
          "simonesharice",
          "simonesharice",
          "thenickfowler",
          "joshglavinfilms",
          "steph.trenkamp",
          "yuna.batmunkh",
          "heyimtran",
          "hattie_willoughby7",
          "ugcravina",
          "edwardleefilms",
          "santinay._",
          "sliimkim",
          "thestevenmellor",
          "jessicanicoleee36",
          "meghan.kimberley",
          "tess.barclay",
          "camtent",
          "taomiekayy",
          "juliabroome",
          "juliabroome",
          "amymarietta",
          "dave_preneur",
          "lo_silver",
          "lo_silver",
          "lo_silver",
          "sydneyonsocials",
          "marinagudov",
          "kiyana.ebrahimi",
          "laurennrwebb",
          "laurennrwebb",
          "laurennrwebb",
          "latinapreneur",
          "latinapreneur",
          "rixirising",
          "iambreham",
          "justinescameraroll",
          "chooseyoursocial",
          "esragram",
          "milajaye",
          "milajaye",
          "milajaye",
          "milajaye",
          "milajaye",
          "coach.stone",
          "coach.stone",
          "viralvideo.club",
          "blameanthony",
          "justinschumanofficial",
          "blakehealey1",
          "courtneymoseley_",
          "hummusbirrd",
          "nicky.reardon",
          "flourishplanner",
          "converzzo",
          "aronsogi",
          "tipsforcreators",
          "tipsforcreators",
          "tipsforcreators",
          "tipsforcreators",
          "tipsforcreators",
          "ahormozi",
          "laurenwolfe",
          "tiktokcreativeexperts",
          "maicyrenee",
          "cecilybauchmann",
          "carringtonxx"
         ],
         "legendgroup": "",
         "marker": {
          "color": "#636efa",
          "symbol": "circle"
         },
         "mode": "markers",
         "name": "",
         "orientation": "v",
         "showlegend": false,
         "type": "scatter",
         "x": [
          1318,
          2771,
          3797,
          4169,
          4679,
          5975,
          6296,
          6375,
          9146,
          9146,
          9146,
          11200,
          11600,
          12600,
          14500,
          15700,
          16500,
          16500,
          17500,
          18800,
          22200,
          23800,
          27400,
          34500,
          38900,
          39900,
          40800,
          42400,
          44700,
          48400,
          53700,
          54400,
          54400,
          54800,
          54900,
          54900,
          63100,
          63300,
          66000,
          66100,
          67300,
          68100,
          79700,
          79700,
          83600,
          86100,
          87400,
          90100,
          93000,
          95600,
          102100,
          105100,
          115000,
          123400,
          131100,
          135400,
          142900,
          143000,
          145000,
          161700,
          161700,
          161700,
          167800,
          168700,
          184300,
          184300,
          184300,
          206200,
          214300,
          225600,
          227700,
          227700,
          227700,
          230300,
          230300,
          236600,
          241100,
          242300,
          256200,
          287200,
          289200,
          289200,
          289200,
          289200,
          289200,
          289300,
          289300,
          301600,
          327600,
          328600,
          354600,
          376900,
          388800,
          402400,
          498100,
          643700,
          714300,
          866100,
          866100,
          866100,
          866100,
          866100,
          948000,
          1100000,
          1300000,
          1600000,
          2200000,
          3300000
         ],
         "xaxis": "x",
         "y": [
          53100,
          210200,
          35300,
          1500000,
          103500,
          2600000,
          305500,
          8410,
          214600,
          215900,
          5455,
          303300,
          6722,
          103500,
          336100,
          40000,
          10400,
          41900,
          25200,
          213800,
          1500000,
          902000,
          16900,
          260600,
          72400,
          1500000,
          98900,
          860400,
          434800,
          2200000,
          520100,
          722100,
          1900000,
          55100,
          244800,
          667400,
          694500,
          45600,
          166800,
          435400,
          54600,
          278200,
          16900,
          166300,
          60500,
          359400,
          32000,
          1300000,
          1100000,
          98300,
          1700000,
          56400,
          123000,
          714100,
          264500,
          173900,
          400500,
          440200,
          1300000,
          733900,
          297200,
          121600,
          1900000,
          657100,
          197300,
          2100000,
          915900,
          216500,
          131900,
          1300000,
          823400,
          822500,
          10500000,
          155600,
          441700,
          5800000,
          182100,
          186300,
          130600,
          1900000,
          676900,
          273900,
          2100000,
          55700,
          5500000,
          442600,
          43600,
          160800,
          2000000,
          18200,
          1200000,
          180200,
          109600,
          542500,
          40100,
          1900000,
          430200,
          1800000,
          3213,
          760000,
          30000,
          4200000,
          105500,
          9400000,
          281200,
          219500,
          485100,
          212600
         ],
         "yaxis": "y"
        }
       ],
       "layout": {
        "legend": {
         "tracegroupgap": 0
        },
        "template": {
         "data": {
          "bar": [
           {
            "error_x": {
             "color": "#2a3f5f"
            },
            "error_y": {
             "color": "#2a3f5f"
            },
            "marker": {
             "line": {
              "color": "#E5ECF6",
              "width": 0.5
             },
             "pattern": {
              "fillmode": "overlay",
              "size": 10,
              "solidity": 0.2
             }
            },
            "type": "bar"
           }
          ],
          "barpolar": [
           {
            "marker": {
             "line": {
              "color": "#E5ECF6",
              "width": 0.5
             },
             "pattern": {
              "fillmode": "overlay",
              "size": 10,
              "solidity": 0.2
             }
            },
            "type": "barpolar"
           }
          ],
          "carpet": [
           {
            "aaxis": {
             "endlinecolor": "#2a3f5f",
             "gridcolor": "white",
             "linecolor": "white",
             "minorgridcolor": "white",
             "startlinecolor": "#2a3f5f"
            },
            "baxis": {
             "endlinecolor": "#2a3f5f",
             "gridcolor": "white",
             "linecolor": "white",
             "minorgridcolor": "white",
             "startlinecolor": "#2a3f5f"
            },
            "type": "carpet"
           }
          ],
          "choropleth": [
           {
            "colorbar": {
             "outlinewidth": 0,
             "ticks": ""
            },
            "type": "choropleth"
           }
          ],
          "contour": [
           {
            "colorbar": {
             "outlinewidth": 0,
             "ticks": ""
            },
            "colorscale": [
             [
              0,
              "#0d0887"
             ],
             [
              0.1111111111111111,
              "#46039f"
             ],
             [
              0.2222222222222222,
              "#7201a8"
             ],
             [
              0.3333333333333333,
              "#9c179e"
             ],
             [
              0.4444444444444444,
              "#bd3786"
             ],
             [
              0.5555555555555556,
              "#d8576b"
             ],
             [
              0.6666666666666666,
              "#ed7953"
             ],
             [
              0.7777777777777778,
              "#fb9f3a"
             ],
             [
              0.8888888888888888,
              "#fdca26"
             ],
             [
              1,
              "#f0f921"
             ]
            ],
            "type": "contour"
           }
          ],
          "contourcarpet": [
           {
            "colorbar": {
             "outlinewidth": 0,
             "ticks": ""
            },
            "type": "contourcarpet"
           }
          ],
          "heatmap": [
           {
            "colorbar": {
             "outlinewidth": 0,
             "ticks": ""
            },
            "colorscale": [
             [
              0,
              "#0d0887"
             ],
             [
              0.1111111111111111,
              "#46039f"
             ],
             [
              0.2222222222222222,
              "#7201a8"
             ],
             [
              0.3333333333333333,
              "#9c179e"
             ],
             [
              0.4444444444444444,
              "#bd3786"
             ],
             [
              0.5555555555555556,
              "#d8576b"
             ],
             [
              0.6666666666666666,
              "#ed7953"
             ],
             [
              0.7777777777777778,
              "#fb9f3a"
             ],
             [
              0.8888888888888888,
              "#fdca26"
             ],
             [
              1,
              "#f0f921"
             ]
            ],
            "type": "heatmap"
           }
          ],
          "heatmapgl": [
           {
            "colorbar": {
             "outlinewidth": 0,
             "ticks": ""
            },
            "colorscale": [
             [
              0,
              "#0d0887"
             ],
             [
              0.1111111111111111,
              "#46039f"
             ],
             [
              0.2222222222222222,
              "#7201a8"
             ],
             [
              0.3333333333333333,
              "#9c179e"
             ],
             [
              0.4444444444444444,
              "#bd3786"
             ],
             [
              0.5555555555555556,
              "#d8576b"
             ],
             [
              0.6666666666666666,
              "#ed7953"
             ],
             [
              0.7777777777777778,
              "#fb9f3a"
             ],
             [
              0.8888888888888888,
              "#fdca26"
             ],
             [
              1,
              "#f0f921"
             ]
            ],
            "type": "heatmapgl"
           }
          ],
          "histogram": [
           {
            "marker": {
             "pattern": {
              "fillmode": "overlay",
              "size": 10,
              "solidity": 0.2
             }
            },
            "type": "histogram"
           }
          ],
          "histogram2d": [
           {
            "colorbar": {
             "outlinewidth": 0,
             "ticks": ""
            },
            "colorscale": [
             [
              0,
              "#0d0887"
             ],
             [
              0.1111111111111111,
              "#46039f"
             ],
             [
              0.2222222222222222,
              "#7201a8"
             ],
             [
              0.3333333333333333,
              "#9c179e"
             ],
             [
              0.4444444444444444,
              "#bd3786"
             ],
             [
              0.5555555555555556,
              "#d8576b"
             ],
             [
              0.6666666666666666,
              "#ed7953"
             ],
             [
              0.7777777777777778,
              "#fb9f3a"
             ],
             [
              0.8888888888888888,
              "#fdca26"
             ],
             [
              1,
              "#f0f921"
             ]
            ],
            "type": "histogram2d"
           }
          ],
          "histogram2dcontour": [
           {
            "colorbar": {
             "outlinewidth": 0,
             "ticks": ""
            },
            "colorscale": [
             [
              0,
              "#0d0887"
             ],
             [
              0.1111111111111111,
              "#46039f"
             ],
             [
              0.2222222222222222,
              "#7201a8"
             ],
             [
              0.3333333333333333,
              "#9c179e"
             ],
             [
              0.4444444444444444,
              "#bd3786"
             ],
             [
              0.5555555555555556,
              "#d8576b"
             ],
             [
              0.6666666666666666,
              "#ed7953"
             ],
             [
              0.7777777777777778,
              "#fb9f3a"
             ],
             [
              0.8888888888888888,
              "#fdca26"
             ],
             [
              1,
              "#f0f921"
             ]
            ],
            "type": "histogram2dcontour"
           }
          ],
          "mesh3d": [
           {
            "colorbar": {
             "outlinewidth": 0,
             "ticks": ""
            },
            "type": "mesh3d"
           }
          ],
          "parcoords": [
           {
            "line": {
             "colorbar": {
              "outlinewidth": 0,
              "ticks": ""
             }
            },
            "type": "parcoords"
           }
          ],
          "pie": [
           {
            "automargin": true,
            "type": "pie"
           }
          ],
          "scatter": [
           {
            "fillpattern": {
             "fillmode": "overlay",
             "size": 10,
             "solidity": 0.2
            },
            "type": "scatter"
           }
          ],
          "scatter3d": [
           {
            "line": {
             "colorbar": {
              "outlinewidth": 0,
              "ticks": ""
             }
            },
            "marker": {
             "colorbar": {
              "outlinewidth": 0,
              "ticks": ""
             }
            },
            "type": "scatter3d"
           }
          ],
          "scattercarpet": [
           {
            "marker": {
             "colorbar": {
              "outlinewidth": 0,
              "ticks": ""
             }
            },
            "type": "scattercarpet"
           }
          ],
          "scattergeo": [
           {
            "marker": {
             "colorbar": {
              "outlinewidth": 0,
              "ticks": ""
             }
            },
            "type": "scattergeo"
           }
          ],
          "scattergl": [
           {
            "marker": {
             "colorbar": {
              "outlinewidth": 0,
              "ticks": ""
             }
            },
            "type": "scattergl"
           }
          ],
          "scattermapbox": [
           {
            "marker": {
             "colorbar": {
              "outlinewidth": 0,
              "ticks": ""
             }
            },
            "type": "scattermapbox"
           }
          ],
          "scatterpolar": [
           {
            "marker": {
             "colorbar": {
              "outlinewidth": 0,
              "ticks": ""
             }
            },
            "type": "scatterpolar"
           }
          ],
          "scatterpolargl": [
           {
            "marker": {
             "colorbar": {
              "outlinewidth": 0,
              "ticks": ""
             }
            },
            "type": "scatterpolargl"
           }
          ],
          "scatterternary": [
           {
            "marker": {
             "colorbar": {
              "outlinewidth": 0,
              "ticks": ""
             }
            },
            "type": "scatterternary"
           }
          ],
          "surface": [
           {
            "colorbar": {
             "outlinewidth": 0,
             "ticks": ""
            },
            "colorscale": [
             [
              0,
              "#0d0887"
             ],
             [
              0.1111111111111111,
              "#46039f"
             ],
             [
              0.2222222222222222,
              "#7201a8"
             ],
             [
              0.3333333333333333,
              "#9c179e"
             ],
             [
              0.4444444444444444,
              "#bd3786"
             ],
             [
              0.5555555555555556,
              "#d8576b"
             ],
             [
              0.6666666666666666,
              "#ed7953"
             ],
             [
              0.7777777777777778,
              "#fb9f3a"
             ],
             [
              0.8888888888888888,
              "#fdca26"
             ],
             [
              1,
              "#f0f921"
             ]
            ],
            "type": "surface"
           }
          ],
          "table": [
           {
            "cells": {
             "fill": {
              "color": "#EBF0F8"
             },
             "line": {
              "color": "white"
             }
            },
            "header": {
             "fill": {
              "color": "#C8D4E3"
             },
             "line": {
              "color": "white"
             }
            },
            "type": "table"
           }
          ]
         },
         "layout": {
          "annotationdefaults": {
           "arrowcolor": "#2a3f5f",
           "arrowhead": 0,
           "arrowwidth": 1
          },
          "autotypenumbers": "strict",
          "coloraxis": {
           "colorbar": {
            "outlinewidth": 0,
            "ticks": ""
           }
          },
          "colorscale": {
           "diverging": [
            [
             0,
             "#8e0152"
            ],
            [
             0.1,
             "#c51b7d"
            ],
            [
             0.2,
             "#de77ae"
            ],
            [
             0.3,
             "#f1b6da"
            ],
            [
             0.4,
             "#fde0ef"
            ],
            [
             0.5,
             "#f7f7f7"
            ],
            [
             0.6,
             "#e6f5d0"
            ],
            [
             0.7,
             "#b8e186"
            ],
            [
             0.8,
             "#7fbc41"
            ],
            [
             0.9,
             "#4d9221"
            ],
            [
             1,
             "#276419"
            ]
           ],
           "sequential": [
            [
             0,
             "#0d0887"
            ],
            [
             0.1111111111111111,
             "#46039f"
            ],
            [
             0.2222222222222222,
             "#7201a8"
            ],
            [
             0.3333333333333333,
             "#9c179e"
            ],
            [
             0.4444444444444444,
             "#bd3786"
            ],
            [
             0.5555555555555556,
             "#d8576b"
            ],
            [
             0.6666666666666666,
             "#ed7953"
            ],
            [
             0.7777777777777778,
             "#fb9f3a"
            ],
            [
             0.8888888888888888,
             "#fdca26"
            ],
            [
             1,
             "#f0f921"
            ]
           ],
           "sequentialminus": [
            [
             0,
             "#0d0887"
            ],
            [
             0.1111111111111111,
             "#46039f"
            ],
            [
             0.2222222222222222,
             "#7201a8"
            ],
            [
             0.3333333333333333,
             "#9c179e"
            ],
            [
             0.4444444444444444,
             "#bd3786"
            ],
            [
             0.5555555555555556,
             "#d8576b"
            ],
            [
             0.6666666666666666,
             "#ed7953"
            ],
            [
             0.7777777777777778,
             "#fb9f3a"
            ],
            [
             0.8888888888888888,
             "#fdca26"
            ],
            [
             1,
             "#f0f921"
            ]
           ]
          },
          "colorway": [
           "#636efa",
           "#EF553B",
           "#00cc96",
           "#ab63fa",
           "#FFA15A",
           "#19d3f3",
           "#FF6692",
           "#B6E880",
           "#FF97FF",
           "#FECB52"
          ],
          "font": {
           "color": "#2a3f5f"
          },
          "geo": {
           "bgcolor": "white",
           "lakecolor": "white",
           "landcolor": "#E5ECF6",
           "showlakes": true,
           "showland": true,
           "subunitcolor": "white"
          },
          "hoverlabel": {
           "align": "left"
          },
          "hovermode": "closest",
          "mapbox": {
           "style": "light"
          },
          "paper_bgcolor": "white",
          "plot_bgcolor": "#E5ECF6",
          "polar": {
           "angularaxis": {
            "gridcolor": "white",
            "linecolor": "white",
            "ticks": ""
           },
           "bgcolor": "#E5ECF6",
           "radialaxis": {
            "gridcolor": "white",
            "linecolor": "white",
            "ticks": ""
           }
          },
          "scene": {
           "xaxis": {
            "backgroundcolor": "#E5ECF6",
            "gridcolor": "white",
            "gridwidth": 2,
            "linecolor": "white",
            "showbackground": true,
            "ticks": "",
            "zerolinecolor": "white"
           },
           "yaxis": {
            "backgroundcolor": "#E5ECF6",
            "gridcolor": "white",
            "gridwidth": 2,
            "linecolor": "white",
            "showbackground": true,
            "ticks": "",
            "zerolinecolor": "white"
           },
           "zaxis": {
            "backgroundcolor": "#E5ECF6",
            "gridcolor": "white",
            "gridwidth": 2,
            "linecolor": "white",
            "showbackground": true,
            "ticks": "",
            "zerolinecolor": "white"
           }
          },
          "shapedefaults": {
           "line": {
            "color": "#2a3f5f"
           }
          },
          "ternary": {
           "aaxis": {
            "gridcolor": "white",
            "linecolor": "white",
            "ticks": ""
           },
           "baxis": {
            "gridcolor": "white",
            "linecolor": "white",
            "ticks": ""
           },
           "bgcolor": "#E5ECF6",
           "caxis": {
            "gridcolor": "white",
            "linecolor": "white",
            "ticks": ""
           }
          },
          "title": {
           "x": 0.05
          },
          "xaxis": {
           "automargin": true,
           "gridcolor": "white",
           "linecolor": "white",
           "ticks": "",
           "title": {
            "standoff": 15
           },
           "zerolinecolor": "white",
           "zerolinewidth": 2
          },
          "yaxis": {
           "automargin": true,
           "gridcolor": "white",
           "linecolor": "white",
           "ticks": "",
           "title": {
            "standoff": 15
           },
           "zerolinecolor": "white",
           "zerolinewidth": 2
          }
         }
        },
        "title": {
         "text": "View Count vs Follower Count (Log Scale)"
        },
        "xaxis": {
         "anchor": "y",
         "domain": [
          0,
          1
         ],
         "title": {
          "text": "Follower Count"
         },
         "type": "log"
        },
        "yaxis": {
         "anchor": "x",
         "domain": [
          0,
          1
         ],
         "title": {
          "text": "View Count"
         },
         "type": "log"
        }
       }
      }
     },
     "metadata": {},
     "output_type": "display_data"
    }
   ],
   "source": [
    "# Sort the DataFrame by follower_count in ascending order\n",
    "df = df.sort_values(by='follower_count', ascending=True)\n",
    "\n",
    "# Create an interactive scatter plot with Plotly and log scale on both axes\n",
    "fig = px.scatter(df, \n",
    "                 x='follower_count', \n",
    "                 y='view_count', \n",
    "                 hover_name='username',  # Display username when hovering\n",
    "                 labels={'follower_count': 'Follower Count', 'view_count': 'View Count'},\n",
    "                 title='View Count vs Follower Count (Log Scale)',\n",
    "                 log_x=True,  # Apply logarithmic scale to x-axis\n",
    "                 log_y=True)  # Apply logarithmic scale to y-axis\n",
    "\n",
    "# Show the plot\n",
    "fig.show()\n"
   ]
  }
 ],
 "metadata": {
  "kernelspec": {
   "display_name": "niche",
   "language": "python",
   "name": "python3"
  },
  "language_info": {
   "codemirror_mode": {
    "name": "ipython",
    "version": 3
   },
   "file_extension": ".py",
   "mimetype": "text/x-python",
   "name": "python",
   "nbconvert_exporter": "python",
   "pygments_lexer": "ipython3",
   "version": "3.12.4"
  }
 },
 "nbformat": 4,
 "nbformat_minor": 2
}
