{
 "cells": [
  {
   "cell_type": "code",
   "execution_count": 2,
   "metadata": {},
   "outputs": [
    {
     "name": "stdout",
     "output_type": "stream",
     "text": [
      "har_processing.ipynb\n"
     ]
    }
   ],
   "source": [
    "import os\n",
    "\n",
    "root = os.getenv('PROJ_ROOT')\n",
    "notebook_path = os.path.join(root, 'tiktok_niche/har_processing.ipynb')\n",
    "\n",
    "file_name = os.path.basename(notebook_path)\n",
    "print(file_name)"
   ]
  },
  {
   "cell_type": "code",
   "execution_count": 7,
   "metadata": {},
   "outputs": [],
   "source": [
    "import json\n",
    "import re\n",
    "from haralyzer import HarParser\n",
    "import pandas as pd\n",
    "from datetime import datetime\n",
    "\n",
    "# Load the HAR file\n",
    "with open('content_creator_tips_search_Archive [24-10-16 11-01-58].har', 'r', encoding='utf-8') as f:\n",
    "    har_parser = HarParser(json.loads(f.read()))\n",
    "\n",
    "#data = har_parser.har_data\n",
    "#print(type(data))\n",
    "\n",
    "# Regex patterns for matching variables\n",
    "patterns = {\n",
    "    'username': re.compile(r'\"uniqueId\"\\s*:\\s*\"([^\"]+)\"'),\n",
    "    'nickname': re.compile(r'\"nickname\"\\s*:\\s*\"([^\"]+)\"'),\n",
    "    'bio': re.compile(r'\"signature\"\\s*:\\s*\"([^\"]+)\"'),\n",
    "    'follower_count': re.compile(r'\"followerCount\"\\s*:\\s*(\\d+)'),\n",
    "    #'hashtags': re.compile(r'\"hashtagName\"\\s*:\\s*\"([^\"]+)\"'),\n",
    "    'video_description': re.compile(r'\"desc\"\\s*:\\s*\"([^\"]+)\"'),\n",
    "    'upload_time': re.compile(r'\"createTime\"\\s*:\\s*(\\d+)'),\n",
    "    'duration': re.compile(r'\"duration\"\\s*:\\s*(\\d+)'),\n",
    "    'sound': re.compile(r'\"title\"\\s*:\\s*\"([^\"]+)\"'),\n",
    "    'view_count': re.compile(r'\"playCount\"\\s*:\\s*(\\d+)'),\n",
    "    'comment_count': re.compile(r'\"commentCount\"\\s*:\\s*(\\d+)'),\n",
    "    'like_count': re.compile(r'\"diggCount\"\\s*:\\s*(\\d+)'),\n",
    "    'save_count': re.compile(r'\"collectCount\"\\s*:\\s*(\\d+)'),\n",
    "    'share_count': re.compile(r'\"shareCount\"\\s*:\\s*(\\d+)')\n",
    "}\n"
   ]
  },
  {
   "cell_type": "code",
   "execution_count": 9,
   "metadata": {},
   "outputs": [
    {
     "name": "stdout",
     "output_type": "stream",
     "text": [
      "        username                     nickname  \\\n",
      "0    coach.stone  Stone | Social Media Growth   \n",
      "1    juliabroome         julez | social media   \n",
      "2  theaaronchris                theaaronchris   \n",
      "3      ugcravina  Ravina | Content Strategist   \n",
      "4        evhandd                         Evan   \n",
      "\n",
      "                                                 bio follower_count  \\\n",
      "0  Share your knowledge📲\\nGrow \\u0026 Make💵\\nTikt...         289200   \n",
      "1  social media manager / branding / creative str...         161600   \n",
      "2  Cinematographer 🎥 • Photographer 📸  \\n📍Mobile,...          11100   \n",
      "3  Helping you grow \\u0026 monetize on TikTok \\nC...         102100   \n",
      "4  📱Content Creator\\n📚Content Tips \\u0026 Tricks\\...         188600   \n",
      "\n",
      "          hashtags                                  video_description  \\\n",
      "0       coachstone  This is everything you need to become full-tim...   \n",
      "1      contentplan  use THIS ‼️ to plan your content so that all o...   \n",
      "2  contentcreators  How to upload high quality videos to Tiktok th...   \n",
      "3      greenscreen  #greenscreen how to become a fulltime content ...   \n",
      "4  tiktokalgorithm  You NEED TO BE doing this after you post a vid...   \n",
      "\n",
      "  upload_time duration view_count comment_count like_count save_count  \\\n",
      "0  1690649352      269     442400           475      36500      31900   \n",
      "1  1723498195       90     120800           235      11300       8248   \n",
      "2  1685670594       89     302900           285      10200       5170   \n",
      "3  1691547968      136    1700000          1313     162800     108900   \n",
      "4  1709655969      100     759100          4423      44200       7839   \n",
      "\n",
      "  share_count  \n",
      "0        4514  \n",
      "1         752  \n",
      "2         589  \n",
      "3        7841  \n",
      "4        1433  \n"
     ]
    }
   ],
   "source": [
    "data = []\n",
    "\n",
    "# Iterate over pages and entries in the HAR file\n",
    "for page in har_parser.pages:\n",
    "    for entry in page.entries:\n",
    "        # Ensure that the entry has a 'text' field in its response content\n",
    "        response_text = entry['response']['content'].get('text', '')\n",
    "        if response_text:\n",
    "            # Extract the data using regex\n",
    "            extracted_data = {}\n",
    "            for key, pattern in patterns.items():\n",
    "                match = pattern.search(response_text)\n",
    "                extracted_data[key] = match.group(1) if match else None\n",
    "\n",
    "            # Convert UNIX time for upload_date if available\n",
    "            #if extracted_data.get('upload_time'):\n",
    "            #    extracted_data['upload_time'] = convert_unix_time(int(extracted_data['upload_time']))\n",
    "\n",
    "            # Add the row to the dataset if relevant data was found\n",
    "            if any(extracted_data.values()):\n",
    "                data.append(extracted_data)\n",
    "\n",
    "\n",
    "# Convert to a pandas DataFrame\n",
    "df = pd.DataFrame(data)\n",
    "\n",
    "# Show the first few rows of the DataFrame to verify the extraction\n",
    "print(df.head())"
   ]
  },
  {
   "cell_type": "code",
   "execution_count": 10,
   "metadata": {},
   "outputs": [],
   "source": [
    "df.to_csv('extracted_tiktok_data.csv', index=False)"
   ]
  }
 ],
 "metadata": {
  "kernelspec": {
   "display_name": "niche",
   "language": "python",
   "name": "python3"
  },
  "language_info": {
   "codemirror_mode": {
    "name": "ipython",
    "version": 3
   },
   "file_extension": ".py",
   "mimetype": "text/x-python",
   "name": "python",
   "nbconvert_exporter": "python",
   "pygments_lexer": "ipython3",
   "version": "3.12.4"
  }
 },
 "nbformat": 4,
 "nbformat_minor": 2
}
