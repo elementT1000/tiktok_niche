{
 "cells": [
  {
   "cell_type": "code",
   "execution_count": 38,
   "metadata": {},
   "outputs": [],
   "source": [
    "import json\n",
    "import re\n",
    "from haralyzer import HarParser\n",
    "import pandas as pd\n",
    "from datetime import datetime, timezone\n",
    "\n",
    "# Load the HAR file\n",
    "with open('organic_marketing_Archive [24-10-16 20-12-10].har', 'r', encoding='utf-8') as f:\n",
    "    har_parser = HarParser(json.loads(f.read()))\n",
    "\n",
    "#Check if it has data\n",
    "#data = har_parser.har_data\n",
    "#print(type(data))\n",
    "\n",
    "# Regex patterns for matching variables\n",
    "patterns = {\n",
    "    'username': re.compile(r'\"uniqueId\"\\s*:\\s*\"([^\"]+)\"'),\n",
    "    'nickname': re.compile(r'\"nickname\"\\s*:\\s*\"([^\"]+)\"'),\n",
    "    'bio': re.compile(r'\"signature\"\\s*:\\s*\"([^\"]+)\"'),\n",
    "    'follower_count': re.compile(r'\"followerCount\"\\s*:\\s*(\\d+)'),\n",
    "    #'hashtags': re.compile(r'\"hashtagName\"\\s*:\\s*\"([^\"]+)\"'), # Only returns the first hashtag.\n",
    "    'video_description': re.compile(r'\"desc\"\\s*:\\s*\"([^\"]+)\"'),\n",
    "    'upload_time': re.compile(r'\"createTime\"\\s*:\\s*(\\d+)'),\n",
    "    'duration': re.compile(r'\"duration\"\\s*:\\s*(\\d+)'),\n",
    "    'sound': re.compile(r'\"title\"\\s*:\\s*\"([^\"]+)\"'),\n",
    "    'view_count': re.compile(r'\"playCount\"\\s*:\\s*(\\d+)'),\n",
    "    'comment_count': re.compile(r'\"commentCount\"\\s*:\\s*(\\d+)'),\n",
    "    'like_count': re.compile(r'\"diggCount\"\\s*:\\s*(\\d+)'),\n",
    "    'save_count': re.compile(r'\"collectCount\"\\s*:\\s*(\\d+)'),\n",
    "    'share_count': re.compile(r'\"shareCount\"\\s*:\\s*(\\d+)')\n",
    "}\n"
   ]
  },
  {
   "cell_type": "code",
   "execution_count": 39,
   "metadata": {},
   "outputs": [
    {
     "name": "stdout",
     "output_type": "stream",
     "text": [
      "104\n"
     ]
    }
   ],
   "source": [
    "data = []\n",
    "\n",
    "# Updated helper function to convert UNIX time to human-readable UTC format\n",
    "def convert_unix_time(unix_time):\n",
    "    return datetime.fromtimestamp(unix_time, tz=timezone.utc).strftime('%Y-%m-%d %H:%M:%S')\n",
    "\n",
    "# Iterate over pages and entries in the HAR file\n",
    "for page in har_parser.pages:\n",
    "    for entry in page.entries:\n",
    "        # Ensure that the entry has a 'text' field in its response content\n",
    "        response_text = entry['response']['content'].get('text', '')\n",
    "        if response_text:\n",
    "            # Try to load the text content as JSON (assuming it's structured that way)\n",
    "            try:\n",
    "                response_data = json.loads(response_text)\n",
    "                \n",
    "                # Extract the list of videos (inside the \"data\" array)\n",
    "                videos = response_data.get('data', [])  # 'data' contains the list of video objects\n",
    "                \n",
    "                # Iterate over each video in the \"data\" array\n",
    "                for video in videos:\n",
    "                    item = video.get('item', {})  # 'item' contains the details of each video\n",
    "                    \n",
    "                    # Extract the data for each video (item)\n",
    "                    extracted_data = {}\n",
    "                    for key, pattern in patterns.items():\n",
    "                        match = pattern.search(json.dumps(item))  # Search inside each item object\n",
    "                        extracted_data[key] = match.group(1) if match else None\n",
    "\n",
    "                    # Convert UNIX time for upload_date if available\n",
    "                    if extracted_data.get('upload_time'):\n",
    "                        extracted_data['upload_time'] = convert_unix_time(int(extracted_data['upload_time']))\n",
    "\n",
    "                    # Add the row to the dataset if relevant data was found\n",
    "                    if any(extracted_data.values()):\n",
    "                        data.append(extracted_data)\n",
    "\n",
    "            except json.JSONDecodeError:\n",
    "                print(\"Error decoding JSON response\")\n",
    "                continue\n",
    "# Convert to a pandas DataFrame\n",
    "df = pd.DataFrame(data)\n",
    "\n",
    "# Show the first few rows of the DataFrame to verify the extraction\n",
    "print(len(df))\n",
    "#print(df)\n"
   ]
  },
  {
   "cell_type": "markdown",
   "metadata": {},
   "source": [
    "### Now, let's clean the data "
   ]
  },
  {
   "cell_type": "code",
   "execution_count": 40,
   "metadata": {},
   "outputs": [],
   "source": [
    "# Data from JSON file is imported as 'str' type. Convert to numeric.\n",
    "# List of columns to convert to numeric\n",
    "columns_to_convert = ['follower_count', 'view_count', 'comment_count', 'like_count', 'save_count', 'share_count']\n",
    "\n",
    "# Convert all relevant columns to numeric in one step\n",
    "df[columns_to_convert] = df[columns_to_convert].apply(pd.to_numeric, errors='coerce')"
   ]
  },
  {
   "cell_type": "code",
   "execution_count": 41,
   "metadata": {},
   "outputs": [],
   "source": [
    "# Hashtags are at the end of the video description. Let's put those in to a new column.\n",
    "def extract_hashtags(description):\n",
    "    hashtags = re.findall(r'#\\w+', description)\n",
    "\n",
    "    #Remove them from description to avoid repeating data\n",
    "    clean_description = re.sub(r'#\\w+', '', description).strip()\n",
    "    return clean_description, hashtags  \n",
    "\n",
    "df[['video_description', 'hashtags']] = df['video_description'].apply(\n",
    "    lambda desc: pd.Series(extract_hashtags(desc) if pd.notnull(desc) else ('', []))\n",
    ")\n",
    "\n",
    "#print(df)"
   ]
  },
  {
   "cell_type": "code",
   "execution_count": 42,
   "metadata": {},
   "outputs": [
    {
     "name": "stderr",
     "output_type": "stream",
     "text": [
      "C:\\Users\\trott\\AppData\\Local\\Temp\\ipykernel_7964\\1631547309.py:15: FutureWarning:\n",
      "\n",
      "DataFrame.applymap has been deprecated. Use DataFrame.map instead.\n",
      "\n"
     ]
    }
   ],
   "source": [
    "# Let's convert the emoji's for the humans in the audience.\n",
    "import json\n",
    "# Function to decode Unicode escape sequences safely\n",
    "def decode_unicode(description):\n",
    "    try:\n",
    "        # Add quotes around the string so json.loads correctly decodes the escape sequences\n",
    "        return json.loads(f'\"{description}\"')\n",
    "    except json.JSONDecodeError:\n",
    "        return description\n",
    "\n",
    "# List of columns to apply the decoding function\n",
    "columns_to_decode = ['video_description', 'nickname', 'bio']\n",
    "\n",
    "# Apply the decoding function in place to all specified columns\n",
    "df[columns_to_decode] = df[columns_to_decode].applymap(lambda desc: decode_unicode(desc) if pd.notnull(desc) else '')\n",
    "\n",
    "# Show the resulting DataFrame with the decoded descriptions\n",
    "#print(df[['video_description']])\n",
    "\n",
    "# Save the cleaned data to a .csv for work elsewhere\n",
    "df.to_csv('cleaned_tiktok_data.csv', index=False)\n"
   ]
  },
  {
   "cell_type": "markdown",
   "metadata": {},
   "source": [
    "### Data Aggregation"
   ]
  },
  {
   "cell_type": "code",
   "execution_count": 43,
   "metadata": {},
   "outputs": [
    {
     "name": "stdout",
     "output_type": "stream",
     "text": [
      "     view_count  comment_count  like_count  save_count  share_count  \\\n",
      "0        370900            319       22800       14300         1733   \n",
      "1          7040              9         284          62            4   \n",
      "2          4980              2         174          59            6   \n",
      "3          6798              1         527         176           14   \n",
      "4          3747             13         316          86           12   \n",
      "..          ...            ...         ...         ...          ...   \n",
      "99       164200            695        3211        1288          202   \n",
      "100       34700              9        1794         369           69   \n",
      "101       29800             54        1616         419           63   \n",
      "102      142700            168        8313        1061         1497   \n",
      "103      603200            176       27700        3759          408   \n",
      "\n",
      "     engagement_rate  \n",
      "0           0.105559  \n",
      "1           0.050994  \n",
      "2           0.048394  \n",
      "3           0.105619  \n",
      "4           0.113958  \n",
      "..               ...  \n",
      "99          0.032862  \n",
      "100         0.064582  \n",
      "101         0.072215  \n",
      "102         0.077358  \n",
      "103         0.053122  \n",
      "\n",
      "[104 rows x 6 columns]\n"
     ]
    }
   ],
   "source": [
    "#Calculate the rate of engagement by looking at the ratio of interactions to views.\n",
    "df['engagement_rate'] = (df['comment_count'] + df['like_count'] + df['save_count'] + df['share_count']) / df['view_count']\n",
    "\n",
    "# Show the resulting DataFrame with the new engagement_rate column\n",
    "print(df[['view_count', 'comment_count', 'like_count', 'save_count', 'share_count', 'engagement_rate']])"
   ]
  },
  {
   "cell_type": "code",
   "execution_count": 44,
   "metadata": {},
   "outputs": [
    {
     "data": {
      "application/vnd.plotly.v1+json": {
       "config": {
        "plotlyServerURL": "https://plot.ly"
       },
       "data": [
        {
         "domain": {
          "x": [
           0,
           1
          ],
          "y": [
           0,
           1
          ]
         },
         "hovertemplate": "hashtag=%{label}<br>total_view_count=%{value}<extra></extra>",
         "labels": [
          "#marketing",
          "#humorlaboral",
          "#inversi",
          "#arequipa",
          "#humortiktok",
          "#pitahaya",
          "#camana",
          "#marketing101",
          "#sidehustlesthatwork",
          "#sidehustleforanyone",
          "#sidehustles2023",
          "#simplesidehustles",
          "#sidehustlesforbeginners",
          "#waystomakemoneyonline",
          "#onlinepassiveincome",
          "#legitsidehustle",
          "#psychology",
          "#marketingtips",
          "#socialmediamarketing",
          "#personalbranding",
          "#brand",
          "#tiktokgrowth",
          "#socialmediastrategy",
          "#socialmediastrategist",
          "#advertising"
         ],
         "legendgroup": "",
         "name": "",
         "showlegend": true,
         "type": "pie",
         "values": [
          10385826,
          4600000,
          4600000,
          4600000,
          4600000,
          4600000,
          4600000,
          4377465,
          4100000,
          4100000,
          4100000,
          4100000,
          4100000,
          4100000,
          4100000,
          4100000,
          3595400,
          3133290,
          3015612,
          2876900,
          2688300,
          2517700,
          2300000,
          2300000,
          2239700
         ]
        }
       ],
       "layout": {
        "legend": {
         "tracegroupgap": 0
        },
        "template": {
         "data": {
          "bar": [
           {
            "error_x": {
             "color": "#2a3f5f"
            },
            "error_y": {
             "color": "#2a3f5f"
            },
            "marker": {
             "line": {
              "color": "#E5ECF6",
              "width": 0.5
             },
             "pattern": {
              "fillmode": "overlay",
              "size": 10,
              "solidity": 0.2
             }
            },
            "type": "bar"
           }
          ],
          "barpolar": [
           {
            "marker": {
             "line": {
              "color": "#E5ECF6",
              "width": 0.5
             },
             "pattern": {
              "fillmode": "overlay",
              "size": 10,
              "solidity": 0.2
             }
            },
            "type": "barpolar"
           }
          ],
          "carpet": [
           {
            "aaxis": {
             "endlinecolor": "#2a3f5f",
             "gridcolor": "white",
             "linecolor": "white",
             "minorgridcolor": "white",
             "startlinecolor": "#2a3f5f"
            },
            "baxis": {
             "endlinecolor": "#2a3f5f",
             "gridcolor": "white",
             "linecolor": "white",
             "minorgridcolor": "white",
             "startlinecolor": "#2a3f5f"
            },
            "type": "carpet"
           }
          ],
          "choropleth": [
           {
            "colorbar": {
             "outlinewidth": 0,
             "ticks": ""
            },
            "type": "choropleth"
           }
          ],
          "contour": [
           {
            "colorbar": {
             "outlinewidth": 0,
             "ticks": ""
            },
            "colorscale": [
             [
              0,
              "#0d0887"
             ],
             [
              0.1111111111111111,
              "#46039f"
             ],
             [
              0.2222222222222222,
              "#7201a8"
             ],
             [
              0.3333333333333333,
              "#9c179e"
             ],
             [
              0.4444444444444444,
              "#bd3786"
             ],
             [
              0.5555555555555556,
              "#d8576b"
             ],
             [
              0.6666666666666666,
              "#ed7953"
             ],
             [
              0.7777777777777778,
              "#fb9f3a"
             ],
             [
              0.8888888888888888,
              "#fdca26"
             ],
             [
              1,
              "#f0f921"
             ]
            ],
            "type": "contour"
           }
          ],
          "contourcarpet": [
           {
            "colorbar": {
             "outlinewidth": 0,
             "ticks": ""
            },
            "type": "contourcarpet"
           }
          ],
          "heatmap": [
           {
            "colorbar": {
             "outlinewidth": 0,
             "ticks": ""
            },
            "colorscale": [
             [
              0,
              "#0d0887"
             ],
             [
              0.1111111111111111,
              "#46039f"
             ],
             [
              0.2222222222222222,
              "#7201a8"
             ],
             [
              0.3333333333333333,
              "#9c179e"
             ],
             [
              0.4444444444444444,
              "#bd3786"
             ],
             [
              0.5555555555555556,
              "#d8576b"
             ],
             [
              0.6666666666666666,
              "#ed7953"
             ],
             [
              0.7777777777777778,
              "#fb9f3a"
             ],
             [
              0.8888888888888888,
              "#fdca26"
             ],
             [
              1,
              "#f0f921"
             ]
            ],
            "type": "heatmap"
           }
          ],
          "heatmapgl": [
           {
            "colorbar": {
             "outlinewidth": 0,
             "ticks": ""
            },
            "colorscale": [
             [
              0,
              "#0d0887"
             ],
             [
              0.1111111111111111,
              "#46039f"
             ],
             [
              0.2222222222222222,
              "#7201a8"
             ],
             [
              0.3333333333333333,
              "#9c179e"
             ],
             [
              0.4444444444444444,
              "#bd3786"
             ],
             [
              0.5555555555555556,
              "#d8576b"
             ],
             [
              0.6666666666666666,
              "#ed7953"
             ],
             [
              0.7777777777777778,
              "#fb9f3a"
             ],
             [
              0.8888888888888888,
              "#fdca26"
             ],
             [
              1,
              "#f0f921"
             ]
            ],
            "type": "heatmapgl"
           }
          ],
          "histogram": [
           {
            "marker": {
             "pattern": {
              "fillmode": "overlay",
              "size": 10,
              "solidity": 0.2
             }
            },
            "type": "histogram"
           }
          ],
          "histogram2d": [
           {
            "colorbar": {
             "outlinewidth": 0,
             "ticks": ""
            },
            "colorscale": [
             [
              0,
              "#0d0887"
             ],
             [
              0.1111111111111111,
              "#46039f"
             ],
             [
              0.2222222222222222,
              "#7201a8"
             ],
             [
              0.3333333333333333,
              "#9c179e"
             ],
             [
              0.4444444444444444,
              "#bd3786"
             ],
             [
              0.5555555555555556,
              "#d8576b"
             ],
             [
              0.6666666666666666,
              "#ed7953"
             ],
             [
              0.7777777777777778,
              "#fb9f3a"
             ],
             [
              0.8888888888888888,
              "#fdca26"
             ],
             [
              1,
              "#f0f921"
             ]
            ],
            "type": "histogram2d"
           }
          ],
          "histogram2dcontour": [
           {
            "colorbar": {
             "outlinewidth": 0,
             "ticks": ""
            },
            "colorscale": [
             [
              0,
              "#0d0887"
             ],
             [
              0.1111111111111111,
              "#46039f"
             ],
             [
              0.2222222222222222,
              "#7201a8"
             ],
             [
              0.3333333333333333,
              "#9c179e"
             ],
             [
              0.4444444444444444,
              "#bd3786"
             ],
             [
              0.5555555555555556,
              "#d8576b"
             ],
             [
              0.6666666666666666,
              "#ed7953"
             ],
             [
              0.7777777777777778,
              "#fb9f3a"
             ],
             [
              0.8888888888888888,
              "#fdca26"
             ],
             [
              1,
              "#f0f921"
             ]
            ],
            "type": "histogram2dcontour"
           }
          ],
          "mesh3d": [
           {
            "colorbar": {
             "outlinewidth": 0,
             "ticks": ""
            },
            "type": "mesh3d"
           }
          ],
          "parcoords": [
           {
            "line": {
             "colorbar": {
              "outlinewidth": 0,
              "ticks": ""
             }
            },
            "type": "parcoords"
           }
          ],
          "pie": [
           {
            "automargin": true,
            "type": "pie"
           }
          ],
          "scatter": [
           {
            "fillpattern": {
             "fillmode": "overlay",
             "size": 10,
             "solidity": 0.2
            },
            "type": "scatter"
           }
          ],
          "scatter3d": [
           {
            "line": {
             "colorbar": {
              "outlinewidth": 0,
              "ticks": ""
             }
            },
            "marker": {
             "colorbar": {
              "outlinewidth": 0,
              "ticks": ""
             }
            },
            "type": "scatter3d"
           }
          ],
          "scattercarpet": [
           {
            "marker": {
             "colorbar": {
              "outlinewidth": 0,
              "ticks": ""
             }
            },
            "type": "scattercarpet"
           }
          ],
          "scattergeo": [
           {
            "marker": {
             "colorbar": {
              "outlinewidth": 0,
              "ticks": ""
             }
            },
            "type": "scattergeo"
           }
          ],
          "scattergl": [
           {
            "marker": {
             "colorbar": {
              "outlinewidth": 0,
              "ticks": ""
             }
            },
            "type": "scattergl"
           }
          ],
          "scattermapbox": [
           {
            "marker": {
             "colorbar": {
              "outlinewidth": 0,
              "ticks": ""
             }
            },
            "type": "scattermapbox"
           }
          ],
          "scatterpolar": [
           {
            "marker": {
             "colorbar": {
              "outlinewidth": 0,
              "ticks": ""
             }
            },
            "type": "scatterpolar"
           }
          ],
          "scatterpolargl": [
           {
            "marker": {
             "colorbar": {
              "outlinewidth": 0,
              "ticks": ""
             }
            },
            "type": "scatterpolargl"
           }
          ],
          "scatterternary": [
           {
            "marker": {
             "colorbar": {
              "outlinewidth": 0,
              "ticks": ""
             }
            },
            "type": "scatterternary"
           }
          ],
          "surface": [
           {
            "colorbar": {
             "outlinewidth": 0,
             "ticks": ""
            },
            "colorscale": [
             [
              0,
              "#0d0887"
             ],
             [
              0.1111111111111111,
              "#46039f"
             ],
             [
              0.2222222222222222,
              "#7201a8"
             ],
             [
              0.3333333333333333,
              "#9c179e"
             ],
             [
              0.4444444444444444,
              "#bd3786"
             ],
             [
              0.5555555555555556,
              "#d8576b"
             ],
             [
              0.6666666666666666,
              "#ed7953"
             ],
             [
              0.7777777777777778,
              "#fb9f3a"
             ],
             [
              0.8888888888888888,
              "#fdca26"
             ],
             [
              1,
              "#f0f921"
             ]
            ],
            "type": "surface"
           }
          ],
          "table": [
           {
            "cells": {
             "fill": {
              "color": "#EBF0F8"
             },
             "line": {
              "color": "white"
             }
            },
            "header": {
             "fill": {
              "color": "#C8D4E3"
             },
             "line": {
              "color": "white"
             }
            },
            "type": "table"
           }
          ]
         },
         "layout": {
          "annotationdefaults": {
           "arrowcolor": "#2a3f5f",
           "arrowhead": 0,
           "arrowwidth": 1
          },
          "autotypenumbers": "strict",
          "coloraxis": {
           "colorbar": {
            "outlinewidth": 0,
            "ticks": ""
           }
          },
          "colorscale": {
           "diverging": [
            [
             0,
             "#8e0152"
            ],
            [
             0.1,
             "#c51b7d"
            ],
            [
             0.2,
             "#de77ae"
            ],
            [
             0.3,
             "#f1b6da"
            ],
            [
             0.4,
             "#fde0ef"
            ],
            [
             0.5,
             "#f7f7f7"
            ],
            [
             0.6,
             "#e6f5d0"
            ],
            [
             0.7,
             "#b8e186"
            ],
            [
             0.8,
             "#7fbc41"
            ],
            [
             0.9,
             "#4d9221"
            ],
            [
             1,
             "#276419"
            ]
           ],
           "sequential": [
            [
             0,
             "#0d0887"
            ],
            [
             0.1111111111111111,
             "#46039f"
            ],
            [
             0.2222222222222222,
             "#7201a8"
            ],
            [
             0.3333333333333333,
             "#9c179e"
            ],
            [
             0.4444444444444444,
             "#bd3786"
            ],
            [
             0.5555555555555556,
             "#d8576b"
            ],
            [
             0.6666666666666666,
             "#ed7953"
            ],
            [
             0.7777777777777778,
             "#fb9f3a"
            ],
            [
             0.8888888888888888,
             "#fdca26"
            ],
            [
             1,
             "#f0f921"
            ]
           ],
           "sequentialminus": [
            [
             0,
             "#0d0887"
            ],
            [
             0.1111111111111111,
             "#46039f"
            ],
            [
             0.2222222222222222,
             "#7201a8"
            ],
            [
             0.3333333333333333,
             "#9c179e"
            ],
            [
             0.4444444444444444,
             "#bd3786"
            ],
            [
             0.5555555555555556,
             "#d8576b"
            ],
            [
             0.6666666666666666,
             "#ed7953"
            ],
            [
             0.7777777777777778,
             "#fb9f3a"
            ],
            [
             0.8888888888888888,
             "#fdca26"
            ],
            [
             1,
             "#f0f921"
            ]
           ]
          },
          "colorway": [
           "#636efa",
           "#EF553B",
           "#00cc96",
           "#ab63fa",
           "#FFA15A",
           "#19d3f3",
           "#FF6692",
           "#B6E880",
           "#FF97FF",
           "#FECB52"
          ],
          "font": {
           "color": "#2a3f5f"
          },
          "geo": {
           "bgcolor": "white",
           "lakecolor": "white",
           "landcolor": "#E5ECF6",
           "showlakes": true,
           "showland": true,
           "subunitcolor": "white"
          },
          "hoverlabel": {
           "align": "left"
          },
          "hovermode": "closest",
          "mapbox": {
           "style": "light"
          },
          "paper_bgcolor": "white",
          "plot_bgcolor": "#E5ECF6",
          "polar": {
           "angularaxis": {
            "gridcolor": "white",
            "linecolor": "white",
            "ticks": ""
           },
           "bgcolor": "#E5ECF6",
           "radialaxis": {
            "gridcolor": "white",
            "linecolor": "white",
            "ticks": ""
           }
          },
          "scene": {
           "xaxis": {
            "backgroundcolor": "#E5ECF6",
            "gridcolor": "white",
            "gridwidth": 2,
            "linecolor": "white",
            "showbackground": true,
            "ticks": "",
            "zerolinecolor": "white"
           },
           "yaxis": {
            "backgroundcolor": "#E5ECF6",
            "gridcolor": "white",
            "gridwidth": 2,
            "linecolor": "white",
            "showbackground": true,
            "ticks": "",
            "zerolinecolor": "white"
           },
           "zaxis": {
            "backgroundcolor": "#E5ECF6",
            "gridcolor": "white",
            "gridwidth": 2,
            "linecolor": "white",
            "showbackground": true,
            "ticks": "",
            "zerolinecolor": "white"
           }
          },
          "shapedefaults": {
           "line": {
            "color": "#2a3f5f"
           }
          },
          "ternary": {
           "aaxis": {
            "gridcolor": "white",
            "linecolor": "white",
            "ticks": ""
           },
           "baxis": {
            "gridcolor": "white",
            "linecolor": "white",
            "ticks": ""
           },
           "bgcolor": "#E5ECF6",
           "caxis": {
            "gridcolor": "white",
            "linecolor": "white",
            "ticks": ""
           }
          },
          "title": {
           "x": 0.05
          },
          "xaxis": {
           "automargin": true,
           "gridcolor": "white",
           "linecolor": "white",
           "ticks": "",
           "title": {
            "standoff": 15
           },
           "zerolinecolor": "white",
           "zerolinewidth": 2
          },
          "yaxis": {
           "automargin": true,
           "gridcolor": "white",
           "linecolor": "white",
           "ticks": "",
           "title": {
            "standoff": 15
           },
           "zerolinecolor": "white",
           "zerolinewidth": 2
          }
         }
        },
        "title": {
         "text": "Top Hashtags by Total View Count"
        }
       }
      }
     },
     "metadata": {},
     "output_type": "display_data"
    },
    {
     "data": {
      "application/vnd.plotly.v1+json": {
       "config": {
        "plotlyServerURL": "https://plot.ly"
       },
       "data": [
        {
         "domain": {
          "x": [
           0,
           1
          ],
          "y": [
           0,
           1
          ]
         },
         "hovertemplate": "hashtag=%{label}<br>avg_engagement_rate=%{value}<extra></extra>",
         "labels": [
          "#marketing",
          "#humorlaboral",
          "#inversi",
          "#arequipa",
          "#humortiktok",
          "#pitahaya",
          "#camana",
          "#marketing101",
          "#sidehustlesthatwork",
          "#sidehustleforanyone",
          "#sidehustles2023",
          "#simplesidehustles",
          "#sidehustlesforbeginners",
          "#waystomakemoneyonline",
          "#onlinepassiveincome",
          "#legitsidehustle",
          "#psychology",
          "#marketingtips",
          "#socialmediamarketing",
          "#personalbranding",
          "#brand",
          "#tiktokgrowth",
          "#socialmediastrategy",
          "#socialmediastrategist",
          "#advertising"
         ],
         "legendgroup": "",
         "name": "",
         "showlegend": true,
         "type": "pie",
         "values": [
          0.08572459836180578,
          0.08404326086956522,
          0.08404326086956522,
          0.08404326086956522,
          0.08404326086956522,
          0.08404326086956522,
          0.08404326086956522,
          0.08558137954370974,
          0.0759709756097561,
          0.0759709756097561,
          0.0759709756097561,
          0.0759709756097561,
          0.0759709756097561,
          0.0759709756097561,
          0.0759709756097561,
          0.0759709756097561,
          0.14695337168290223,
          0.09111760033355694,
          0.08020453844637743,
          0.15115988261849314,
          0.13252233046712766,
          0.09126984233507666,
          0.11369608695652174,
          0.11369608695652174,
          0.10565305739018291
         ]
        }
       ],
       "layout": {
        "legend": {
         "tracegroupgap": 0
        },
        "template": {
         "data": {
          "bar": [
           {
            "error_x": {
             "color": "#2a3f5f"
            },
            "error_y": {
             "color": "#2a3f5f"
            },
            "marker": {
             "line": {
              "color": "#E5ECF6",
              "width": 0.5
             },
             "pattern": {
              "fillmode": "overlay",
              "size": 10,
              "solidity": 0.2
             }
            },
            "type": "bar"
           }
          ],
          "barpolar": [
           {
            "marker": {
             "line": {
              "color": "#E5ECF6",
              "width": 0.5
             },
             "pattern": {
              "fillmode": "overlay",
              "size": 10,
              "solidity": 0.2
             }
            },
            "type": "barpolar"
           }
          ],
          "carpet": [
           {
            "aaxis": {
             "endlinecolor": "#2a3f5f",
             "gridcolor": "white",
             "linecolor": "white",
             "minorgridcolor": "white",
             "startlinecolor": "#2a3f5f"
            },
            "baxis": {
             "endlinecolor": "#2a3f5f",
             "gridcolor": "white",
             "linecolor": "white",
             "minorgridcolor": "white",
             "startlinecolor": "#2a3f5f"
            },
            "type": "carpet"
           }
          ],
          "choropleth": [
           {
            "colorbar": {
             "outlinewidth": 0,
             "ticks": ""
            },
            "type": "choropleth"
           }
          ],
          "contour": [
           {
            "colorbar": {
             "outlinewidth": 0,
             "ticks": ""
            },
            "colorscale": [
             [
              0,
              "#0d0887"
             ],
             [
              0.1111111111111111,
              "#46039f"
             ],
             [
              0.2222222222222222,
              "#7201a8"
             ],
             [
              0.3333333333333333,
              "#9c179e"
             ],
             [
              0.4444444444444444,
              "#bd3786"
             ],
             [
              0.5555555555555556,
              "#d8576b"
             ],
             [
              0.6666666666666666,
              "#ed7953"
             ],
             [
              0.7777777777777778,
              "#fb9f3a"
             ],
             [
              0.8888888888888888,
              "#fdca26"
             ],
             [
              1,
              "#f0f921"
             ]
            ],
            "type": "contour"
           }
          ],
          "contourcarpet": [
           {
            "colorbar": {
             "outlinewidth": 0,
             "ticks": ""
            },
            "type": "contourcarpet"
           }
          ],
          "heatmap": [
           {
            "colorbar": {
             "outlinewidth": 0,
             "ticks": ""
            },
            "colorscale": [
             [
              0,
              "#0d0887"
             ],
             [
              0.1111111111111111,
              "#46039f"
             ],
             [
              0.2222222222222222,
              "#7201a8"
             ],
             [
              0.3333333333333333,
              "#9c179e"
             ],
             [
              0.4444444444444444,
              "#bd3786"
             ],
             [
              0.5555555555555556,
              "#d8576b"
             ],
             [
              0.6666666666666666,
              "#ed7953"
             ],
             [
              0.7777777777777778,
              "#fb9f3a"
             ],
             [
              0.8888888888888888,
              "#fdca26"
             ],
             [
              1,
              "#f0f921"
             ]
            ],
            "type": "heatmap"
           }
          ],
          "heatmapgl": [
           {
            "colorbar": {
             "outlinewidth": 0,
             "ticks": ""
            },
            "colorscale": [
             [
              0,
              "#0d0887"
             ],
             [
              0.1111111111111111,
              "#46039f"
             ],
             [
              0.2222222222222222,
              "#7201a8"
             ],
             [
              0.3333333333333333,
              "#9c179e"
             ],
             [
              0.4444444444444444,
              "#bd3786"
             ],
             [
              0.5555555555555556,
              "#d8576b"
             ],
             [
              0.6666666666666666,
              "#ed7953"
             ],
             [
              0.7777777777777778,
              "#fb9f3a"
             ],
             [
              0.8888888888888888,
              "#fdca26"
             ],
             [
              1,
              "#f0f921"
             ]
            ],
            "type": "heatmapgl"
           }
          ],
          "histogram": [
           {
            "marker": {
             "pattern": {
              "fillmode": "overlay",
              "size": 10,
              "solidity": 0.2
             }
            },
            "type": "histogram"
           }
          ],
          "histogram2d": [
           {
            "colorbar": {
             "outlinewidth": 0,
             "ticks": ""
            },
            "colorscale": [
             [
              0,
              "#0d0887"
             ],
             [
              0.1111111111111111,
              "#46039f"
             ],
             [
              0.2222222222222222,
              "#7201a8"
             ],
             [
              0.3333333333333333,
              "#9c179e"
             ],
             [
              0.4444444444444444,
              "#bd3786"
             ],
             [
              0.5555555555555556,
              "#d8576b"
             ],
             [
              0.6666666666666666,
              "#ed7953"
             ],
             [
              0.7777777777777778,
              "#fb9f3a"
             ],
             [
              0.8888888888888888,
              "#fdca26"
             ],
             [
              1,
              "#f0f921"
             ]
            ],
            "type": "histogram2d"
           }
          ],
          "histogram2dcontour": [
           {
            "colorbar": {
             "outlinewidth": 0,
             "ticks": ""
            },
            "colorscale": [
             [
              0,
              "#0d0887"
             ],
             [
              0.1111111111111111,
              "#46039f"
             ],
             [
              0.2222222222222222,
              "#7201a8"
             ],
             [
              0.3333333333333333,
              "#9c179e"
             ],
             [
              0.4444444444444444,
              "#bd3786"
             ],
             [
              0.5555555555555556,
              "#d8576b"
             ],
             [
              0.6666666666666666,
              "#ed7953"
             ],
             [
              0.7777777777777778,
              "#fb9f3a"
             ],
             [
              0.8888888888888888,
              "#fdca26"
             ],
             [
              1,
              "#f0f921"
             ]
            ],
            "type": "histogram2dcontour"
           }
          ],
          "mesh3d": [
           {
            "colorbar": {
             "outlinewidth": 0,
             "ticks": ""
            },
            "type": "mesh3d"
           }
          ],
          "parcoords": [
           {
            "line": {
             "colorbar": {
              "outlinewidth": 0,
              "ticks": ""
             }
            },
            "type": "parcoords"
           }
          ],
          "pie": [
           {
            "automargin": true,
            "type": "pie"
           }
          ],
          "scatter": [
           {
            "fillpattern": {
             "fillmode": "overlay",
             "size": 10,
             "solidity": 0.2
            },
            "type": "scatter"
           }
          ],
          "scatter3d": [
           {
            "line": {
             "colorbar": {
              "outlinewidth": 0,
              "ticks": ""
             }
            },
            "marker": {
             "colorbar": {
              "outlinewidth": 0,
              "ticks": ""
             }
            },
            "type": "scatter3d"
           }
          ],
          "scattercarpet": [
           {
            "marker": {
             "colorbar": {
              "outlinewidth": 0,
              "ticks": ""
             }
            },
            "type": "scattercarpet"
           }
          ],
          "scattergeo": [
           {
            "marker": {
             "colorbar": {
              "outlinewidth": 0,
              "ticks": ""
             }
            },
            "type": "scattergeo"
           }
          ],
          "scattergl": [
           {
            "marker": {
             "colorbar": {
              "outlinewidth": 0,
              "ticks": ""
             }
            },
            "type": "scattergl"
           }
          ],
          "scattermapbox": [
           {
            "marker": {
             "colorbar": {
              "outlinewidth": 0,
              "ticks": ""
             }
            },
            "type": "scattermapbox"
           }
          ],
          "scatterpolar": [
           {
            "marker": {
             "colorbar": {
              "outlinewidth": 0,
              "ticks": ""
             }
            },
            "type": "scatterpolar"
           }
          ],
          "scatterpolargl": [
           {
            "marker": {
             "colorbar": {
              "outlinewidth": 0,
              "ticks": ""
             }
            },
            "type": "scatterpolargl"
           }
          ],
          "scatterternary": [
           {
            "marker": {
             "colorbar": {
              "outlinewidth": 0,
              "ticks": ""
             }
            },
            "type": "scatterternary"
           }
          ],
          "surface": [
           {
            "colorbar": {
             "outlinewidth": 0,
             "ticks": ""
            },
            "colorscale": [
             [
              0,
              "#0d0887"
             ],
             [
              0.1111111111111111,
              "#46039f"
             ],
             [
              0.2222222222222222,
              "#7201a8"
             ],
             [
              0.3333333333333333,
              "#9c179e"
             ],
             [
              0.4444444444444444,
              "#bd3786"
             ],
             [
              0.5555555555555556,
              "#d8576b"
             ],
             [
              0.6666666666666666,
              "#ed7953"
             ],
             [
              0.7777777777777778,
              "#fb9f3a"
             ],
             [
              0.8888888888888888,
              "#fdca26"
             ],
             [
              1,
              "#f0f921"
             ]
            ],
            "type": "surface"
           }
          ],
          "table": [
           {
            "cells": {
             "fill": {
              "color": "#EBF0F8"
             },
             "line": {
              "color": "white"
             }
            },
            "header": {
             "fill": {
              "color": "#C8D4E3"
             },
             "line": {
              "color": "white"
             }
            },
            "type": "table"
           }
          ]
         },
         "layout": {
          "annotationdefaults": {
           "arrowcolor": "#2a3f5f",
           "arrowhead": 0,
           "arrowwidth": 1
          },
          "autotypenumbers": "strict",
          "coloraxis": {
           "colorbar": {
            "outlinewidth": 0,
            "ticks": ""
           }
          },
          "colorscale": {
           "diverging": [
            [
             0,
             "#8e0152"
            ],
            [
             0.1,
             "#c51b7d"
            ],
            [
             0.2,
             "#de77ae"
            ],
            [
             0.3,
             "#f1b6da"
            ],
            [
             0.4,
             "#fde0ef"
            ],
            [
             0.5,
             "#f7f7f7"
            ],
            [
             0.6,
             "#e6f5d0"
            ],
            [
             0.7,
             "#b8e186"
            ],
            [
             0.8,
             "#7fbc41"
            ],
            [
             0.9,
             "#4d9221"
            ],
            [
             1,
             "#276419"
            ]
           ],
           "sequential": [
            [
             0,
             "#0d0887"
            ],
            [
             0.1111111111111111,
             "#46039f"
            ],
            [
             0.2222222222222222,
             "#7201a8"
            ],
            [
             0.3333333333333333,
             "#9c179e"
            ],
            [
             0.4444444444444444,
             "#bd3786"
            ],
            [
             0.5555555555555556,
             "#d8576b"
            ],
            [
             0.6666666666666666,
             "#ed7953"
            ],
            [
             0.7777777777777778,
             "#fb9f3a"
            ],
            [
             0.8888888888888888,
             "#fdca26"
            ],
            [
             1,
             "#f0f921"
            ]
           ],
           "sequentialminus": [
            [
             0,
             "#0d0887"
            ],
            [
             0.1111111111111111,
             "#46039f"
            ],
            [
             0.2222222222222222,
             "#7201a8"
            ],
            [
             0.3333333333333333,
             "#9c179e"
            ],
            [
             0.4444444444444444,
             "#bd3786"
            ],
            [
             0.5555555555555556,
             "#d8576b"
            ],
            [
             0.6666666666666666,
             "#ed7953"
            ],
            [
             0.7777777777777778,
             "#fb9f3a"
            ],
            [
             0.8888888888888888,
             "#fdca26"
            ],
            [
             1,
             "#f0f921"
            ]
           ]
          },
          "colorway": [
           "#636efa",
           "#EF553B",
           "#00cc96",
           "#ab63fa",
           "#FFA15A",
           "#19d3f3",
           "#FF6692",
           "#B6E880",
           "#FF97FF",
           "#FECB52"
          ],
          "font": {
           "color": "#2a3f5f"
          },
          "geo": {
           "bgcolor": "white",
           "lakecolor": "white",
           "landcolor": "#E5ECF6",
           "showlakes": true,
           "showland": true,
           "subunitcolor": "white"
          },
          "hoverlabel": {
           "align": "left"
          },
          "hovermode": "closest",
          "mapbox": {
           "style": "light"
          },
          "paper_bgcolor": "white",
          "plot_bgcolor": "#E5ECF6",
          "polar": {
           "angularaxis": {
            "gridcolor": "white",
            "linecolor": "white",
            "ticks": ""
           },
           "bgcolor": "#E5ECF6",
           "radialaxis": {
            "gridcolor": "white",
            "linecolor": "white",
            "ticks": ""
           }
          },
          "scene": {
           "xaxis": {
            "backgroundcolor": "#E5ECF6",
            "gridcolor": "white",
            "gridwidth": 2,
            "linecolor": "white",
            "showbackground": true,
            "ticks": "",
            "zerolinecolor": "white"
           },
           "yaxis": {
            "backgroundcolor": "#E5ECF6",
            "gridcolor": "white",
            "gridwidth": 2,
            "linecolor": "white",
            "showbackground": true,
            "ticks": "",
            "zerolinecolor": "white"
           },
           "zaxis": {
            "backgroundcolor": "#E5ECF6",
            "gridcolor": "white",
            "gridwidth": 2,
            "linecolor": "white",
            "showbackground": true,
            "ticks": "",
            "zerolinecolor": "white"
           }
          },
          "shapedefaults": {
           "line": {
            "color": "#2a3f5f"
           }
          },
          "ternary": {
           "aaxis": {
            "gridcolor": "white",
            "linecolor": "white",
            "ticks": ""
           },
           "baxis": {
            "gridcolor": "white",
            "linecolor": "white",
            "ticks": ""
           },
           "bgcolor": "#E5ECF6",
           "caxis": {
            "gridcolor": "white",
            "linecolor": "white",
            "ticks": ""
           }
          },
          "title": {
           "x": 0.05
          },
          "xaxis": {
           "automargin": true,
           "gridcolor": "white",
           "linecolor": "white",
           "ticks": "",
           "title": {
            "standoff": 15
           },
           "zerolinecolor": "white",
           "zerolinewidth": 2
          },
          "yaxis": {
           "automargin": true,
           "gridcolor": "white",
           "linecolor": "white",
           "ticks": "",
           "title": {
            "standoff": 15
           },
           "zerolinecolor": "white",
           "zerolinewidth": 2
          }
         }
        },
        "title": {
         "text": "Top Hashtags by Average Engagement Rate"
        }
       }
      }
     },
     "metadata": {},
     "output_type": "display_data"
    }
   ],
   "source": [
    "import plotly.express as px\n",
    "\n",
    "## Pivot table\n",
    "# Function to calculate the top hashtags by total view count, engagement rate, and other metrics\n",
    "def calculate_top_hashtags(df, top_n=25):\n",
    "    # Dictionary to store hashtag data\n",
    "    hashtag_data = {}\n",
    "    \n",
    "    # Iterate through each row in the DataFrame\n",
    "    for idx, row in df.iterrows():\n",
    "        hashtags = row['hashtags']  # List of hashtags in the row\n",
    "        view_count = row['view_count']\n",
    "        comment_count = row['comment_count']\n",
    "        like_count = row['like_count']\n",
    "        save_count = row['save_count']\n",
    "        share_count = row['share_count']\n",
    "        engagement_rate = row['engagement_rate']\n",
    "        \n",
    "        # For each hashtag, update its total view count, engagement rate, and other metrics\n",
    "        for hashtag in hashtags:\n",
    "            if hashtag not in hashtag_data:\n",
    "                hashtag_data[hashtag] = {\n",
    "                    'total_view_count': 0,\n",
    "                    'total_comment_count': 0,\n",
    "                    'total_like_count': 0,\n",
    "                    'total_save_count': 0,\n",
    "                    'total_share_count': 0,\n",
    "                    'engagement_rates': []\n",
    "                }\n",
    "            \n",
    "            # Add view count and engagement rate to the hashtag\n",
    "            hashtag_data[hashtag]['total_view_count'] += view_count\n",
    "            hashtag_data[hashtag]['total_comment_count'] += comment_count\n",
    "            hashtag_data[hashtag]['total_like_count'] += like_count\n",
    "            hashtag_data[hashtag]['total_save_count'] += save_count\n",
    "            hashtag_data[hashtag]['total_share_count'] += share_count\n",
    "            hashtag_data[hashtag]['engagement_rates'].append(engagement_rate)\n",
    "    \n",
    "    # Create a list to store the aggregated data\n",
    "    aggregated_data = []\n",
    "\n",
    "    # Calculate the total view count, engagement rate, and other metrics for each hashtag\n",
    "    for hashtag, data in hashtag_data.items():\n",
    "        total_view_count = data['total_view_count']\n",
    "        total_comment_count = data['total_comment_count']\n",
    "        total_like_count = data['total_like_count']\n",
    "        total_save_count = data['total_save_count']\n",
    "        total_share_count = data['total_share_count']\n",
    "        avg_engagement_rate = sum(data['engagement_rates']) / len(data['engagement_rates'])\n",
    "        \n",
    "        aggregated_data.append({\n",
    "            'hashtag': hashtag,\n",
    "            'total_view_count': total_view_count,\n",
    "            'total_comment_count': total_comment_count,\n",
    "            'total_like_count': total_like_count,\n",
    "            'total_save_count': total_save_count,\n",
    "            'total_share_count': total_share_count,\n",
    "            'avg_engagement_rate': avg_engagement_rate\n",
    "        })\n",
    "    \n",
    "    # Create a new DataFrame from the aggregated data\n",
    "    hashtag_df = pd.DataFrame(aggregated_data)\n",
    "    \n",
    "    # Sort the DataFrame by total view count and select the top N hashtags\n",
    "    top_hashtags_df = hashtag_df.sort_values(by='total_view_count', ascending=False).head(top_n)\n",
    "    \n",
    "    return top_hashtags_df\n",
    "\n",
    "# Call the function and get the top 25 hashtags\n",
    "top_hashtags_df = calculate_top_hashtags(df, top_n=25)\n",
    "\n",
    "# Plot Pie Chart for Total View Count\n",
    "fig_view_count = px.pie(top_hashtags_df, \n",
    "                        values='total_view_count', \n",
    "                        names='hashtag', \n",
    "                        title='Top Hashtags by Total View Count')\n",
    "\n",
    "# Plot Pie Chart for Average Engagement Rate\n",
    "fig_engagement_rate = px.pie(top_hashtags_df, \n",
    "                             values='avg_engagement_rate', \n",
    "                             names='hashtag', \n",
    "                             title='Top Hashtags by Average Engagement Rate')\n",
    "\n",
    "# Show the two pie charts\n",
    "fig_view_count.show()\n",
    "fig_engagement_rate.show()\n",
    "\n",
    "# Show the resulting DataFrame with the top 25 hashtags and their metrics\n",
    "#print(top_hashtags_df.head())"
   ]
  },
  {
   "cell_type": "code",
   "execution_count": 45,
   "metadata": {},
   "outputs": [
    {
     "data": {
      "image/png": "[encoded data removed]",
      "text/plain": [
       "<Figure size 1000x600 with 1 Axes>"
      ]
     },
     "metadata": {},
     "output_type": "display_data"
    },
    {
     "data": {
      "image/png": "[encoded data removed]",
      "text/plain": [
       "<Figure size 1000x600 with 1 Axes>"
      ]
     },
     "metadata": {},
     "output_type": "display_data"
    },
    {
     "data": {
      "image/png": "[encoded data removed]",
      "text/plain": [
       "<Figure size 1000x600 with 1 Axes>"
      ]
     },
     "metadata": {},
     "output_type": "display_data"
    },
    {
     "data": {
      "image/png": "[encoded data removed]",
      "text/plain": [
       "<Figure size 1000x600 with 1 Axes>"
      ]
     },
     "metadata": {},
     "output_type": "display_data"
    }
   ],
   "source": [
    "import matplotlib.pyplot as plt\n",
    "\n",
    "# Function to plot the top 10 videos for a given metric\n",
    "def plot_top_videos(df, metric, title, xlabel):\n",
    "    # Sort the DataFrame by the selected metric and get the top 10\n",
    "    top_videos = df[['username', metric]].sort_values(by=metric, ascending=False).head(10)\n",
    "    \n",
    "    # Plot a bar chart\n",
    "    plt.figure(figsize=(10, 6))\n",
    "    plt.barh(top_videos['username'], top_videos[metric], color='skyblue')\n",
    "    plt.title(f'Top 10 Videos by {title}')\n",
    "    plt.xlabel(xlabel)\n",
    "    plt.ylabel('Username')\n",
    "    plt.gca().invert_yaxis()  # Invert the y-axis so the highest value is at the top\n",
    "    plt.show()\n",
    "\n",
    "# Plot the top 10 videos for views, likes, comments, and shares\n",
    "plot_top_videos(df, 'view_count', 'Views', 'View Count')\n",
    "plot_top_videos(df, 'like_count', 'Likes', 'Like Count')\n",
    "plot_top_videos(df, 'comment_count', 'Comments', 'Comment Count')\n",
    "plot_top_videos(df, 'share_count', 'Shares', 'Share Count')"
   ]
  },
  {
   "cell_type": "code",
   "execution_count": 46,
   "metadata": {},
   "outputs": [
    {
     "data": {
      "application/vnd.plotly.v1+json": {
       "config": {
        "plotlyServerURL": "https://plot.ly"
       },
       "data": [
        {
         "hovertemplate": "<b>%{hovertext}</b><br><br>Follower Count=%{x}<br>View Count=%{y}<extra></extra>",
         "hovertext": [
          "tbeemarketing",
          "idsoup",
          "thebizygroup",
          "ecodriveofficial",
          "organic.kiwify",
          "organic.kiwify",
          "baguettepr",
          "gennadiynadirov",
          "cellfoodswithsol",
          "justwilliamstern",
          "tomjcowell",
          "ciphersdigital",
          "forkthewaffle",
          "imprintdigital",
          "nomad_brad_503",
          "benwjeffrie",
          "azhgroup",
          "noshenprojects",
          "doolybabyyyy",
          "beckertmarketing",
          "princemk.l",
          "jimfoster50",
          "4timecreatives",
          "meaganawilliamson",
          "nico_essig",
          "curatedbyange",
          "txped_official",
          "kelseyvetterco",
          "farka.hn",
          "lancebachmann",
          "brandsauce.co",
          "insight4startups",
          "fellfromhelll",
          "virtuososthreads",
          "socialhit_",
          "thedfrntagency",
          "itsryanto",
          "itsryanto",
          "thebradball",
          "jordanbownteaches",
          "simplyorgfoods",
          "j0nnym0",
          "madecreativeco",
          "casuallyalluring",
          "falter.media",
          "conversion.doc",
          "conversion.doc",
          "alex.rob.v",
          "hkvibin",
          "adamcbenjamin",
          "katiessidehustles",
          "inspiredmediaco",
          "durumalarms",
          "kieranstainton",
          "heyimtran",
          "withjayarose",
          "digitaldropshipping",
          "realprincemakaveli",
          "beausbrain",
          "beausbrain",
          "lacedmedia",
          "lacedmedia",
          "marc_verdu",
          "itssavannahjordan",
          "itssavannahjordan",
          "itssavannahjordan",
          "itssavannahjordan",
          "itssavannahjordan",
          "itssavannahjordan",
          "mr.paidsocial",
          "artlist.io",
          "therobbiemurray",
          "brandon_.marketing",
          "kohisocial",
          "modernmarketing",
          "modernmarketing",
          "modernmarketing",
          "modernmarketing",
          "leilahormozi",
          "orenmeetsworld",
          "orenmeetsworld",
          "lo_silver",
          "lo_silver",
          "makemoneywithmarie",
          "youraveragetechbro",
          "skylargraceco",
          "rixirising",
          "neilpatel",
          "abbyxconway",
          "abbyxconway",
          "kanekallaway",
          "gp_talks",
          "brandnat",
          "jtbarnett",
          "myrongoldenclip",
          "iamnicorojas",
          "trainbloom",
          "theicedcoffeehour",
          "tplanes",
          "samdespo",
          "ahormozi",
          "christopherclaflin",
          "garyvee",
          "garyvee"
         ],
         "legendgroup": "",
         "marker": {
          "color": "#636efa",
          "symbol": "circle"
         },
         "mode": "markers",
         "name": "",
         "orientation": "v",
         "showlegend": false,
         "type": "scatter",
         "x": [
          27,
          54,
          88,
          154,
          184,
          184,
          464,
          477,
          639,
          924,
          1214,
          1532,
          1626,
          1813,
          1984,
          2014,
          2346,
          4317,
          4545,
          4800,
          7500,
          9903,
          10800,
          11500,
          11500,
          12400,
          13700,
          13800,
          14000,
          14100,
          19400,
          26900,
          30200,
          30600,
          32000,
          32800,
          33000,
          33000,
          37800,
          38700,
          40900,
          42400,
          45400,
          46000,
          48800,
          50400,
          50400,
          53000,
          55400,
          61500,
          80200,
          82900,
          91200,
          92500,
          93000,
          94500,
          98500,
          102400,
          103200,
          103200,
          108700,
          108700,
          110600,
          121000,
          121000,
          121000,
          121000,
          121000,
          121000,
          126100,
          129900,
          130900,
          132600,
          140100,
          150000,
          150000,
          150000,
          150000,
          176100,
          183600,
          183600,
          184200,
          184200,
          188900,
          196100,
          197700,
          236500,
          254100,
          257100,
          257100,
          260000,
          308200,
          308700,
          309900,
          342100,
          391300,
          690700,
          696200,
          706300,
          710400,
          947700,
          1700000,
          15000000,
          15000000
         ],
         "xaxis": "x",
         "y": [
          14200,
          1308,
          2656,
          4588,
          183,
          228,
          2007,
          731,
          142700,
          254,
          3478,
          4982,
          7447,
          17600,
          216600,
          4027,
          4600000,
          23900,
          3747,
          814,
          367000,
          164200,
          1300000,
          3512,
          144,
          16900,
          635,
          6313,
          2565,
          1153,
          555300,
          266300,
          18800,
          6798,
          891500,
          40200,
          10400,
          1400000,
          20000,
          88900,
          97400,
          1206,
          42000,
          16800,
          13100,
          595400,
          1000000,
          7040,
          34700,
          133800,
          44,
          2300000,
          12400,
          4100000,
          68000,
          8293,
          1434,
          1101,
          576900,
          32200,
          1701,
          13900,
          6741,
          6490,
          2574,
          105200,
          24000,
          370900,
          3125,
          1600000,
          216400,
          2000000,
          745000,
          218900,
          885,
          1083,
          27000,
          4980,
          8266,
          10100,
          29800,
          32600,
          55200,
          499300,
          1611,
          213000,
          34900,
          62800,
          276700,
          88900,
          133000,
          7293,
          19900,
          11300,
          165800,
          652700,
          513000,
          603200,
          10600,
          49800,
          30100,
          858600,
          639700,
          13700
         ],
         "yaxis": "y"
        }
       ],
       "layout": {
        "legend": {
         "tracegroupgap": 0
        },
        "template": {
         "data": {
          "bar": [
           {
            "error_x": {
             "color": "#2a3f5f"
            },
            "error_y": {
             "color": "#2a3f5f"
            },
            "marker": {
             "line": {
              "color": "#E5ECF6",
              "width": 0.5
             },
             "pattern": {
              "fillmode": "overlay",
              "size": 10,
              "solidity": 0.2
             }
            },
            "type": "bar"
           }
          ],
          "barpolar": [
           {
            "marker": {
             "line": {
              "color": "#E5ECF6",
              "width": 0.5
             },
             "pattern": {
              "fillmode": "overlay",
              "size": 10,
              "solidity": 0.2
             }
            },
            "type": "barpolar"
           }
          ],
          "carpet": [
           {
            "aaxis": {
             "endlinecolor": "#2a3f5f",
             "gridcolor": "white",
             "linecolor": "white",
             "minorgridcolor": "white",
             "startlinecolor": "#2a3f5f"
            },
            "baxis": {
             "endlinecolor": "#2a3f5f",
             "gridcolor": "white",
             "linecolor": "white",
             "minorgridcolor": "white",
             "startlinecolor": "#2a3f5f"
            },
            "type": "carpet"
           }
          ],
          "choropleth": [
           {
            "colorbar": {
             "outlinewidth": 0,
             "ticks": ""
            },
            "type": "choropleth"
           }
          ],
          "contour": [
           {
            "colorbar": {
             "outlinewidth": 0,
             "ticks": ""
            },
            "colorscale": [
             [
              0,
              "#0d0887"
             ],
             [
              0.1111111111111111,
              "#46039f"
             ],
             [
              0.2222222222222222,
              "#7201a8"
             ],
             [
              0.3333333333333333,
              "#9c179e"
             ],
             [
              0.4444444444444444,
              "#bd3786"
             ],
             [
              0.5555555555555556,
              "#d8576b"
             ],
             [
              0.6666666666666666,
              "#ed7953"
             ],
             [
              0.7777777777777778,
              "#fb9f3a"
             ],
             [
              0.8888888888888888,
              "#fdca26"
             ],
             [
              1,
              "#f0f921"
             ]
            ],
            "type": "contour"
           }
          ],
          "contourcarpet": [
           {
            "colorbar": {
             "outlinewidth": 0,
             "ticks": ""
            },
            "type": "contourcarpet"
           }
          ],
          "heatmap": [
           {
            "colorbar": {
             "outlinewidth": 0,
             "ticks": ""
            },
            "colorscale": [
             [
              0,
              "#0d0887"
             ],
             [
              0.1111111111111111,
              "#46039f"
             ],
             [
              0.2222222222222222,
              "#7201a8"
             ],
             [
              0.3333333333333333,
              "#9c179e"
             ],
             [
              0.4444444444444444,
              "#bd3786"
             ],
             [
              0.5555555555555556,
              "#d8576b"
             ],
             [
              0.6666666666666666,
              "#ed7953"
             ],
             [
              0.7777777777777778,
              "#fb9f3a"
             ],
             [
              0.8888888888888888,
              "#fdca26"
             ],
             [
              1,
              "#f0f921"
             ]
            ],
            "type": "heatmap"
           }
          ],
          "heatmapgl": [
           {
            "colorbar": {
             "outlinewidth": 0,
             "ticks": ""
            },
            "colorscale": [
             [
              0,
              "#0d0887"
             ],
             [
              0.1111111111111111,
              "#46039f"
             ],
             [
              0.2222222222222222,
              "#7201a8"
             ],
             [
              0.3333333333333333,
              "#9c179e"
             ],
             [
              0.4444444444444444,
              "#bd3786"
             ],
             [
              0.5555555555555556,
              "#d8576b"
             ],
             [
              0.6666666666666666,
              "#ed7953"
             ],
             [
              0.7777777777777778,
              "#fb9f3a"
             ],
             [
              0.8888888888888888,
              "#fdca26"
             ],
             [
              1,
              "#f0f921"
             ]
            ],
            "type": "heatmapgl"
           }
          ],
          "histogram": [
           {
            "marker": {
             "pattern": {
              "fillmode": "overlay",
              "size": 10,
              "solidity": 0.2
             }
            },
            "type": "histogram"
           }
          ],
          "histogram2d": [
           {
            "colorbar": {
             "outlinewidth": 0,
             "ticks": ""
            },
            "colorscale": [
             [
              0,
              "#0d0887"
             ],
             [
              0.1111111111111111,
              "#46039f"
             ],
             [
              0.2222222222222222,
              "#7201a8"
             ],
             [
              0.3333333333333333,
              "#9c179e"
             ],
             [
              0.4444444444444444,
              "#bd3786"
             ],
             [
              0.5555555555555556,
              "#d8576b"
             ],
             [
              0.6666666666666666,
              "#ed7953"
             ],
             [
              0.7777777777777778,
              "#fb9f3a"
             ],
             [
              0.8888888888888888,
              "#fdca26"
             ],
             [
              1,
              "#f0f921"
             ]
            ],
            "type": "histogram2d"
           }
          ],
          "histogram2dcontour": [
           {
            "colorbar": {
             "outlinewidth": 0,
             "ticks": ""
            },
            "colorscale": [
             [
              0,
              "#0d0887"
             ],
             [
              0.1111111111111111,
              "#46039f"
             ],
             [
              0.2222222222222222,
              "#7201a8"
             ],
             [
              0.3333333333333333,
              "#9c179e"
             ],
             [
              0.4444444444444444,
              "#bd3786"
             ],
             [
              0.5555555555555556,
              "#d8576b"
             ],
             [
              0.6666666666666666,
              "#ed7953"
             ],
             [
              0.7777777777777778,
              "#fb9f3a"
             ],
             [
              0.8888888888888888,
              "#fdca26"
             ],
             [
              1,
              "#f0f921"
             ]
            ],
            "type": "histogram2dcontour"
           }
          ],
          "mesh3d": [
           {
            "colorbar": {
             "outlinewidth": 0,
             "ticks": ""
            },
            "type": "mesh3d"
           }
          ],
          "parcoords": [
           {
            "line": {
             "colorbar": {
              "outlinewidth": 0,
              "ticks": ""
             }
            },
            "type": "parcoords"
           }
          ],
          "pie": [
           {
            "automargin": true,
            "type": "pie"
           }
          ],
          "scatter": [
           {
            "fillpattern": {
             "fillmode": "overlay",
             "size": 10,
             "solidity": 0.2
            },
            "type": "scatter"
           }
          ],
          "scatter3d": [
           {
            "line": {
             "colorbar": {
              "outlinewidth": 0,
              "ticks": ""
             }
            },
            "marker": {
             "colorbar": {
              "outlinewidth": 0,
              "ticks": ""
             }
            },
            "type": "scatter3d"
           }
          ],
          "scattercarpet": [
           {
            "marker": {
             "colorbar": {
              "outlinewidth": 0,
              "ticks": ""
             }
            },
            "type": "scattercarpet"
           }
          ],
          "scattergeo": [
           {
            "marker": {
             "colorbar": {
              "outlinewidth": 0,
              "ticks": ""
             }
            },
            "type": "scattergeo"
           }
          ],
          "scattergl": [
           {
            "marker": {
             "colorbar": {
              "outlinewidth": 0,
              "ticks": ""
             }
            },
            "type": "scattergl"
           }
          ],
          "scattermapbox": [
           {
            "marker": {
             "colorbar": {
              "outlinewidth": 0,
              "ticks": ""
             }
            },
            "type": "scattermapbox"
           }
          ],
          "scatterpolar": [
           {
            "marker": {
             "colorbar": {
              "outlinewidth": 0,
              "ticks": ""
             }
            },
            "type": "scatterpolar"
           }
          ],
          "scatterpolargl": [
           {
            "marker": {
             "colorbar": {
              "outlinewidth": 0,
              "ticks": ""
             }
            },
            "type": "scatterpolargl"
           }
          ],
          "scatterternary": [
           {
            "marker": {
             "colorbar": {
              "outlinewidth": 0,
              "ticks": ""
             }
            },
            "type": "scatterternary"
           }
          ],
          "surface": [
           {
            "colorbar": {
             "outlinewidth": 0,
             "ticks": ""
            },
            "colorscale": [
             [
              0,
              "#0d0887"
             ],
             [
              0.1111111111111111,
              "#46039f"
             ],
             [
              0.2222222222222222,
              "#7201a8"
             ],
             [
              0.3333333333333333,
              "#9c179e"
             ],
             [
              0.4444444444444444,
              "#bd3786"
             ],
             [
              0.5555555555555556,
              "#d8576b"
             ],
             [
              0.6666666666666666,
              "#ed7953"
             ],
             [
              0.7777777777777778,
              "#fb9f3a"
             ],
             [
              0.8888888888888888,
              "#fdca26"
             ],
             [
              1,
              "#f0f921"
             ]
            ],
            "type": "surface"
           }
          ],
          "table": [
           {
            "cells": {
             "fill": {
              "color": "#EBF0F8"
             },
             "line": {
              "color": "white"
             }
            },
            "header": {
             "fill": {
              "color": "#C8D4E3"
             },
             "line": {
              "color": "white"
             }
            },
            "type": "table"
           }
          ]
         },
         "layout": {
          "annotationdefaults": {
           "arrowcolor": "#2a3f5f",
           "arrowhead": 0,
           "arrowwidth": 1
          },
          "autotypenumbers": "strict",
          "coloraxis": {
           "colorbar": {
            "outlinewidth": 0,
            "ticks": ""
           }
          },
          "colorscale": {
           "diverging": [
            [
             0,
             "#8e0152"
            ],
            [
             0.1,
             "#c51b7d"
            ],
            [
             0.2,
             "#de77ae"
            ],
            [
             0.3,
             "#f1b6da"
            ],
            [
             0.4,
             "#fde0ef"
            ],
            [
             0.5,
             "#f7f7f7"
            ],
            [
             0.6,
             "#e6f5d0"
            ],
            [
             0.7,
             "#b8e186"
            ],
            [
             0.8,
             "#7fbc41"
            ],
            [
             0.9,
             "#4d9221"
            ],
            [
             1,
             "#276419"
            ]
           ],
           "sequential": [
            [
             0,
             "#0d0887"
            ],
            [
             0.1111111111111111,
             "#46039f"
            ],
            [
             0.2222222222222222,
             "#7201a8"
            ],
            [
             0.3333333333333333,
             "#9c179e"
            ],
            [
             0.4444444444444444,
             "#bd3786"
            ],
            [
             0.5555555555555556,
             "#d8576b"
            ],
            [
             0.6666666666666666,
             "#ed7953"
            ],
            [
             0.7777777777777778,
             "#fb9f3a"
            ],
            [
             0.8888888888888888,
             "#fdca26"
            ],
            [
             1,
             "#f0f921"
            ]
           ],
           "sequentialminus": [
            [
             0,
             "#0d0887"
            ],
            [
             0.1111111111111111,
             "#46039f"
            ],
            [
             0.2222222222222222,
             "#7201a8"
            ],
            [
             0.3333333333333333,
             "#9c179e"
            ],
            [
             0.4444444444444444,
             "#bd3786"
            ],
            [
             0.5555555555555556,
             "#d8576b"
            ],
            [
             0.6666666666666666,
             "#ed7953"
            ],
            [
             0.7777777777777778,
             "#fb9f3a"
            ],
            [
             0.8888888888888888,
             "#fdca26"
            ],
            [
             1,
             "#f0f921"
            ]
           ]
          },
          "colorway": [
           "#636efa",
           "#EF553B",
           "#00cc96",
           "#ab63fa",
           "#FFA15A",
           "#19d3f3",
           "#FF6692",
           "#B6E880",
           "#FF97FF",
           "#FECB52"
          ],
          "font": {
           "color": "#2a3f5f"
          },
          "geo": {
           "bgcolor": "white",
           "lakecolor": "white",
           "landcolor": "#E5ECF6",
           "showlakes": true,
           "showland": true,
           "subunitcolor": "white"
          },
          "hoverlabel": {
           "align": "left"
          },
          "hovermode": "closest",
          "mapbox": {
           "style": "light"
          },
          "paper_bgcolor": "white",
          "plot_bgcolor": "#E5ECF6",
          "polar": {
           "angularaxis": {
            "gridcolor": "white",
            "linecolor": "white",
            "ticks": ""
           },
           "bgcolor": "#E5ECF6",
           "radialaxis": {
            "gridcolor": "white",
            "linecolor": "white",
            "ticks": ""
           }
          },
          "scene": {
           "xaxis": {
            "backgroundcolor": "#E5ECF6",
            "gridcolor": "white",
            "gridwidth": 2,
            "linecolor": "white",
            "showbackground": true,
            "ticks": "",
            "zerolinecolor": "white"
           },
           "yaxis": {
            "backgroundcolor": "#E5ECF6",
            "gridcolor": "white",
            "gridwidth": 2,
            "linecolor": "white",
            "showbackground": true,
            "ticks": "",
            "zerolinecolor": "white"
           },
           "zaxis": {
            "backgroundcolor": "#E5ECF6",
            "gridcolor": "white",
            "gridwidth": 2,
            "linecolor": "white",
            "showbackground": true,
            "ticks": "",
            "zerolinecolor": "white"
           }
          },
          "shapedefaults": {
           "line": {
            "color": "#2a3f5f"
           }
          },
          "ternary": {
           "aaxis": {
            "gridcolor": "white",
            "linecolor": "white",
            "ticks": ""
           },
           "baxis": {
            "gridcolor": "white",
            "linecolor": "white",
            "ticks": ""
           },
           "bgcolor": "#E5ECF6",
           "caxis": {
            "gridcolor": "white",
            "linecolor": "white",
            "ticks": ""
           }
          },
          "title": {
           "x": 0.05
          },
          "xaxis": {
           "automargin": true,
           "gridcolor": "white",
           "linecolor": "white",
           "ticks": "",
           "title": {
            "standoff": 15
           },
           "zerolinecolor": "white",
           "zerolinewidth": 2
          },
          "yaxis": {
           "automargin": true,
           "gridcolor": "white",
           "linecolor": "white",
           "ticks": "",
           "title": {
            "standoff": 15
           },
           "zerolinecolor": "white",
           "zerolinewidth": 2
          }
         }
        },
        "title": {
         "text": "View Count vs Follower Count (Log Scale)"
        },
        "xaxis": {
         "anchor": "y",
         "domain": [
          0,
          1
         ],
         "title": {
          "text": "Follower Count"
         },
         "type": "log"
        },
        "yaxis": {
         "anchor": "x",
         "domain": [
          0,
          1
         ],
         "title": {
          "text": "View Count"
         },
         "type": "log"
        }
       }
      }
     },
     "metadata": {},
     "output_type": "display_data"
    }
   ],
   "source": [
    "# Convert follower_count to a numeric type if not already numeric\n",
    "df['follower_count'] = pd.to_numeric(df['follower_count'], errors='coerce')\n",
    "\n",
    "# Convert follower_count to a numeric type if not already numeric\n",
    "df['follower_count'] = pd.to_numeric(df['follower_count'], errors='coerce')\n",
    "\n",
    "# Sort the DataFrame by follower_count in ascending order\n",
    "df = df.sort_values(by='follower_count', ascending=True)\n",
    "\n",
    "# Create an interactive scatter plot with Plotly and log scale on both axes\n",
    "fig = px.scatter(df, \n",
    "                 x='follower_count', \n",
    "                 y='view_count', \n",
    "                 hover_name='username',  # Display username when hovering\n",
    "                 labels={'follower_count': 'Follower Count', 'view_count': 'View Count'},\n",
    "                 title='View Count vs Follower Count (Log Scale)',\n",
    "                 log_x=True,  # Apply logarithmic scale to x-axis\n",
    "                 log_y=True)  # Apply logarithmic scale to y-axis\n",
    "\n",
    "# Show the plot\n",
    "fig.show()\n"
   ]
  }
 ],
 "metadata": {
  "kernelspec": {
   "display_name": "niche",
   "language": "python",
   "name": "python3"
  },
  "language_info": {
   "codemirror_mode": {
    "name": "ipython",
    "version": 3
   },
   "file_extension": ".py",
   "mimetype": "text/x-python",
   "name": "python",
   "nbconvert_exporter": "python",
   "pygments_lexer": "ipython3",
   "version": "3.12.4"
  }
 },
 "nbformat": 4,
 "nbformat_minor": 2
}
